{
  "nbformat": 4,
  "nbformat_minor": 0,
  "metadata": {
    "colab": {
      "provenance": []
    },
    "kernelspec": {
      "name": "python3",
      "display_name": "Python 3"
    },
    "language_info": {
      "name": "python"
    }
  },
  "cells": [
    {
      "cell_type": "code",
      "execution_count": 7,
      "metadata": {
        "id": "Ed4IzCQGxT2m",
        "colab": {
          "base_uri": "https://localhost:8080/",
          "height": 1000
        },
        "outputId": "e9afdccd-3621-4b1c-f903-21fb8e092ebe"
      },
      "outputs": [
        {
          "output_type": "stream",
          "name": "stdout",
          "text": [
            "65.0\n",
            "80.0\n",
            "68.0\n",
            "60.0\n",
            "84.0\n",
            "85.0\n",
            "75.0\n",
            "nan\n",
            "51.0\n",
            "50.0\n",
            "70.0\n",
            "85.0\n",
            "nan\n",
            "91.0\n",
            "nan\n",
            "51.0\n",
            "nan\n",
            "72.0\n",
            "66.0\n",
            "70.0\n",
            "101.0\n",
            "57.0\n",
            "75.0\n",
            "44.0\n",
            "nan\n",
            "110.0\n",
            "60.0\n",
            "98.0\n",
            "47.0\n",
            "60.0\n",
            "50.0\n",
            "nan\n",
            "85.0\n",
            "70.0\n",
            "60.0\n",
            "108.0\n",
            "112.0\n",
            "74.0\n",
            "68.0\n",
            "65.0\n",
            "84.0\n",
            "115.0\n",
            "nan\n",
            "nan\n",
            "70.0\n",
            "61.0\n",
            "48.0\n",
            "84.0\n",
            "33.0\n",
            "66.0\n",
            "nan\n",
            "52.0\n",
            "110.0\n",
            "68.0\n",
            "60.0\n",
            "100.0\n",
            "24.0\n",
            "89.0\n",
            "66.0\n",
            "60.0\n",
            "63.0\n",
            "60.0\n",
            "44.0\n",
            "50.0\n",
            "nan\n",
            "76.0\n",
            "nan\n",
            "72.0\n",
            "47.0\n",
            "81.0\n",
            "95.0\n",
            "69.0\n",
            "74.0\n",
            "85.0\n",
            "60.0\n",
            "21.0\n",
            "nan\n",
            "50.0\n",
            "72.0\n",
            "60.0\n",
            "100.0\n",
            "32.0\n",
            "78.0\n",
            "80.0\n",
            "nan\n",
            "121.0\n",
            "122.0\n",
            "40.0\n",
            "105.0\n",
            "60.0\n",
            "60.0\n",
            "85.0\n",
            "80.0\n",
            "60.0\n",
            "69.0\n",
            "nan\n",
            "78.0\n",
            "73.0\n",
            "85.0\n",
            "77.0\n",
            "nan\n",
            "77.0\n",
            "64.0\n",
            "94.0\n",
            "nan\n",
            "75.0\n",
            "60.0\n",
            "50.0\n",
            "85.0\n",
            "105.0\n",
            "75.0\n",
            "nan\n",
            "77.0\n",
            "nan\n",
            "61.0\n",
            "34.0\n",
            "nan\n",
            "74.0\n",
            "90.0\n",
            "65.0\n",
            "nan\n",
            "50.0\n",
            "75.0\n",
            "55.0\n",
            "48.0\n",
            "60.0\n",
            "nan\n",
            "55.0\n",
            "69.0\n",
            "69.0\n",
            "88.0\n",
            "nan\n",
            "75.0\n",
            "nan\n",
            "78.0\n",
            "80.0\n",
            "nan\n",
            "82.0\n",
            "73.0\n",
            "65.0\n",
            "70.0\n",
            "78.0\n",
            "71.0\n",
            "78.0\n",
            "70.0\n",
            "24.0\n",
            "51.0\n",
            "nan\n",
            "63.0\n",
            "nan\n",
            "120.0\n",
            "107.0\n",
            "nan\n",
            "nan\n",
            "84.0\n",
            "60.0\n",
            "60.0\n",
            "92.0\n",
            "100.0\n",
            "134.0\n",
            "nan\n",
            "110.0\n",
            "95.0\n",
            "55.0\n",
            "40.0\n",
            "62.0\n",
            "nan\n",
            "86.0\n",
            "62.0\n",
            "nan\n",
            "nan\n",
            "141.0\n",
            "44.0\n",
            "80.0\n",
            "47.0\n",
            "84.0\n",
            "97.0\n",
            "nan\n",
            "63.0\n",
            "60.0\n",
            "nan\n",
            "54.0\n",
            "60.0\n",
            "63.0\n",
            "92.0\n",
            "90.0\n",
            "nan\n",
            "60.0\n",
            "64.0\n",
            "41.0\n",
            "70.0\n",
            "nan\n",
            "68.0\n",
            "24.0\n",
            "60.0\n",
            "24.0\n",
            "79.0\n",
            "174.0\n",
            "92.0\n",
            "76.0\n",
            "80.0\n",
            "75.0\n",
            "50.0\n",
            "nan\n",
            "50.0\n",
            "99.0\n",
            "40.0\n",
            "nan\n",
            "nan\n",
            "75.0\n",
            "67.0\n",
            "83.0\n",
            "72.0\n",
            "43.0\n",
            "nan\n",
            "72.0\n",
            "65.0\n",
            "57.0\n",
            "nan\n",
            "43.0\n",
            "73.0\n",
            "nan\n",
            "85.0\n",
            "70.0\n",
            "103.0\n",
            "21.0\n",
            "82.0\n",
            "21.0\n",
            "70.0\n",
            "43.0\n",
            "73.0\n",
            "174.0\n",
            "21.0\n",
            "75.0\n",
            "nan\n",
            "21.0\n",
            "65.0\n",
            "nan\n",
            "93.0\n",
            "52.0\n",
            "75.0\n",
            "40.0\n",
            "63.0\n",
            "75.0\n",
            "nan\n",
            "80.0\n",
            "69.0\n",
            "75.0\n",
            "72.0\n",
            "nan\n",
            "55.0\n",
            "44.0\n",
            "65.0\n",
            "85.0\n",
            "70.0\n",
            "66.0\n",
            "64.0\n",
            "68.0\n",
            "80.0\n",
            "70.0\n",
            "120.0\n",
            "69.0\n",
            "88.0\n",
            "50.0\n",
            "30.0\n",
            "78.0\n",
            "70.0\n",
            "60.0\n",
            "71.0\n",
            "nan\n",
            "84.0\n",
            "73.0\n",
            "92.0\n",
            "80.0\n",
            "76.0\n",
            "55.0\n",
            "129.0\n",
            "140.0\n",
            "107.0\n",
            "83.0\n",
            "82.0\n",
            "60.0\n",
            "34.0\n",
            "74.0\n",
            "50.0\n",
            "35.0\n",
            "77.0\n",
            "nan\n",
            "nan\n",
            "60.0\n",
            "120.0\n",
            "55.0\n",
            "60.0\n",
            "nan\n",
            "80.0\n",
            "37.0\n",
            "75.0\n",
            "66.0\n",
            "90.0\n",
            "80.0\n",
            "90.0\n",
            "66.0\n",
            "118.0\n",
            "70.0\n",
            "87.0\n",
            "80.0\n",
            "116.0\n",
            "nan\n",
            "nan\n",
            "90.0\n",
            "nan\n",
            "50.0\n",
            "65.0\n",
            "150.0\n",
            "60.0\n",
            "71.0\n",
            "94.0\n",
            "75.0\n",
            "90.0\n",
            "nan\n",
            "111.0\n",
            "99.0\n",
            "86.0\n",
            "49.0\n",
            "96.0\n",
            "50.0\n",
            "32.0\n",
            "80.0\n",
            "nan\n",
            "60.0\n",
            "nan\n",
            "70.0\n",
            "85.0\n",
            "59.0\n",
            "59.0\n",
            "nan\n",
            "86.0\n",
            "70.0\n",
            "91.0\n",
            "66.0\n",
            "85.0\n",
            "60.0\n",
            "nan\n",
            "63.0\n",
            "36.0\n",
            "65.0\n",
            "nan\n",
            "nan\n",
            "36.0\n",
            "56.0\n",
            "68.0\n",
            "nan\n",
            "60.0\n",
            "60.0\n",
            "60.0\n",
            "105.0\n",
            "nan\n",
            "44.0\n",
            "92.0\n",
            "78.0\n",
            "nan\n",
            "nan\n",
            "64.0\n",
            "21.0\n",
            "nan\n",
            "59.0\n",
            "nan\n",
            "101.0\n",
            "78.0\n",
            "nan\n",
            "nan\n",
            "80.0\n",
            "50.0\n",
            "79.0\n",
            "65.0\n",
            "nan\n",
            "57.0\n",
            "102.0\n",
            "88.0\n",
            "60.0\n",
            "50.0\n",
            "60.0\n",
            "79.0\n",
            "60.0\n",
            "nan\n",
            "43.0\n",
            "58.0\n",
            "72.0\n",
            "93.0\n",
            "96.0\n",
            "50.0\n",
            "71.0\n",
            "nan\n",
            "nan\n",
            "60.0\n",
            "68.0\n",
            "60.0\n",
            "69.0\n",
            "60.0\n",
            "65.0\n",
            "38.0\n",
            "65.0\n",
            "60.0\n",
            "93.0\n",
            "nan\n",
            "nan\n",
            "51.0\n",
            "63.0\n",
            "109.0\n",
            "85.0\n",
            "68.0\n",
            "100.0\n",
            "nan\n",
            "56.0\n",
            "59.0\n",
            "73.0\n",
            "74.0\n",
            "86.0\n",
            "60.0\n",
            "65.0\n",
            "78.0\n",
            "nan\n",
            "100.0\n",
            "80.0\n",
            "72.0\n",
            "60.0\n",
            "nan\n",
            "77.0\n",
            "64.0\n",
            "130.0\n",
            "21.0\n",
            "60.0\n",
            "24.0\n",
            "100.0\n",
            "21.0\n",
            "43.0\n",
            "40.0\n",
            "50.0\n",
            "40.0\n",
            "67.0\n",
            "105.0\n",
            "92.0\n",
            "52.0\n",
            "53.0\n",
            "70.0\n",
            "73.0\n",
            "137.0\n",
            "nan\n",
            "50.0\n",
            "50.0\n",
            "70.0\n",
            "62.0\n",
            "nan\n",
            "75.0\n",
            "63.0\n",
            "80.0\n",
            "34.0\n",
            "nan\n",
            "nan\n",
            "nan\n",
            "75.0\n",
            "60.0\n",
            "60.0\n",
            "74.0\n",
            "60.0\n",
            "nan\n",
            "85.0\n",
            "79.0\n",
            "98.0\n",
            "76.0\n",
            "nan\n",
            "92.0\n",
            "35.0\n",
            "110.0\n",
            "41.0\n",
            "80.0\n",
            "75.0\n",
            "105.0\n",
            "79.0\n",
            "50.0\n",
            "98.0\n",
            "72.0\n",
            "50.0\n",
            "32.0\n",
            "nan\n",
            "80.0\n",
            "79.0\n",
            "70.0\n",
            "60.0\n",
            "21.0\n",
            "nan\n",
            "79.0\n",
            "105.0\n",
            "70.0\n",
            "50.0\n",
            "60.0\n",
            "nan\n",
            "60.0\n",
            "65.0\n",
            "70.0\n",
            "21.0\n",
            "75.0\n",
            "70.0\n",
            "100.0\n",
            "24.0\n",
            "60.0\n",
            "80.0\n",
            "75.0\n",
            "60.0\n",
            "80.0\n",
            "75.0\n",
            "40.0\n",
            "70.0\n",
            "71.0\n",
            "55.0\n",
            "94.0\n",
            "nan\n",
            "79.0\n",
            "nan\n",
            "53.0\n",
            "60.0\n",
            "90.0\n",
            "50.0\n",
            "130.0\n",
            "95.0\n",
            "62.0\n",
            "70.0\n",
            "67.0\n",
            "58.0\n",
            "nan\n",
            "85.0\n",
            "60.0\n",
            "60.0\n",
            "50.0\n",
            "74.0\n",
            "70.0\n",
            "57.0\n",
            "nan\n",
            "nan\n",
            "nan\n",
            "85.0\n",
            "nan\n",
            "78.0\n",
            "34.0\n",
            "58.0\n",
            "nan\n",
            "70.0\n",
            "54.0\n",
            "49.0\n",
            "75.0\n",
            "53.0\n",
            "50.0\n",
            "87.0\n",
            "67.0\n",
            "85.0\n",
            "58.0\n",
            "69.0\n",
            "60.0\n",
            "57.0\n",
            "nan\n",
            "nan\n",
            "77.0\n",
            "63.0\n",
            "66.0\n",
            "nan\n",
            "66.0\n",
            "77.0\n",
            "70.0\n",
            "79.0\n",
            "nan\n",
            "74.0\n",
            "60.0\n",
            "83.0\n",
            "76.0\n",
            "70.0\n",
            "80.0\n",
            "52.0\n",
            "96.0\n",
            "34.0\n",
            "81.0\n",
            "nan\n",
            "98.0\n",
            "81.0\n",
            "75.0\n",
            "51.0\n",
            "88.0\n",
            "55.0\n",
            "74.0\n",
            "65.0\n",
            "50.0\n",
            "64.0\n",
            "97.0\n",
            "60.0\n",
            "nan\n",
            "88.0\n",
            "69.0\n",
            "60.0\n",
            "53.0\n",
            "80.0\n",
            "24.0\n",
            "74.0\n",
            "50.0\n",
            "80.0\n",
            "30.0\n",
            "88.0\n",
            "85.0\n",
            "82.0\n",
            "78.0\n",
            "78.0\n",
            "61.0\n",
            "nan\n",
            "nan\n",
            "nan\n",
            "70.0\n",
            "21.0\n",
            "80.0\n",
            "nan\n",
            "59.0\n",
            "90.0\n",
            "85.0\n",
            "45.0\n",
            "90.0\n",
            "71.0\n",
            "nan\n",
            "80.0\n",
            "87.0\n",
            "nan\n",
            "80.0\n",
            "70.0\n",
            "82.0\n",
            "50.0\n",
            "34.0\n",
            "85.0\n",
            "80.0\n",
            "64.0\n",
            "60.0\n",
            "51.0\n",
            "50.0\n",
            "67.0\n",
            "53.0\n",
            "62.0\n",
            "nan\n",
            "75.0\n",
            "80.0\n",
            "85.0\n",
            "nan\n",
            "60.0\n",
            "85.0\n",
            "70.0\n",
            "21.0\n",
            "65.0\n",
            "60.0\n",
            "70.0\n",
            "60.0\n",
            "91.0\n",
            "21.0\n",
            "72.0\n",
            "60.0\n",
            "78.0\n",
            "75.0\n",
            "nan\n",
            "52.0\n",
            "120.0\n",
            "90.0\n",
            "49.0\n",
            "106.0\n",
            "nan\n",
            "65.0\n",
            "nan\n",
            "80.0\n",
            "64.0\n",
            "54.0\n",
            "nan\n",
            "110.0\n",
            "80.0\n",
            "24.0\n",
            "60.0\n",
            "52.0\n",
            "80.0\n",
            "nan\n",
            "50.0\n",
            "55.0\n",
            "nan\n",
            "90.0\n",
            "58.0\n",
            "nan\n",
            "84.0\n",
            "nan\n",
            "60.0\n",
            "61.0\n",
            "nan\n",
            "104.0\n",
            "42.0\n",
            "60.0\n",
            "51.0\n",
            "54.0\n",
            "50.0\n",
            "57.0\n",
            "65.0\n",
            "59.0\n",
            "85.0\n",
            "80.0\n",
            "82.0\n",
            "76.0\n",
            "70.0\n",
            "70.0\n",
            "nan\n",
            "48.0\n",
            "65.0\n",
            "nan\n",
            "56.0\n",
            "66.0\n",
            "40.0\n",
            "60.0\n",
            "nan\n",
            "78.0\n",
            "60.0\n",
            "80.0\n",
            "96.0\n",
            "69.0\n",
            "nan\n",
            "nan\n",
            "70.0\n",
            "60.0\n",
            "86.0\n",
            "60.0\n",
            "nan\n",
            "64.0\n",
            "85.0\n",
            "52.0\n",
            "39.0\n",
            "73.0\n",
            "75.0\n",
            "80.0\n",
            "nan\n",
            "60.0\n",
            "60.0\n",
            "72.0\n",
            "60.0\n",
            "65.0\n",
            "60.0\n",
            "65.0\n",
            "65.0\n",
            "70.0\n",
            "41.0\n",
            "nan\n",
            "nan\n",
            "65.0\n",
            "59.0\n",
            "50.0\n",
            "55.0\n",
            "nan\n",
            "79.0\n",
            "80.0\n",
            "61.0\n",
            "34.0\n",
            "68.0\n",
            "nan\n",
            "24.0\n",
            "65.0\n",
            "70.0\n",
            "60.0\n",
            "72.0\n",
            "82.0\n",
            "30.0\n",
            "75.0\n",
            "80.0\n",
            "75.0\n",
            "70.0\n",
            "47.0\n",
            "nan\n",
            "67.0\n",
            "94.0\n",
            "70.0\n",
            "110.0\n",
            "32.0\n",
            "86.0\n",
            "100.0\n",
            "60.0\n",
            "78.0\n",
            "63.0\n",
            "65.0\n",
            "67.0\n",
            "nan\n",
            "35.0\n",
            "nan\n",
            "60.0\n",
            "76.0\n",
            "50.0\n",
            "nan\n",
            "43.0\n",
            "nan\n",
            "92.0\n",
            "76.0\n",
            "nan\n",
            "70.0\n",
            "71.0\n",
            "57.0\n",
            "104.0\n",
            "60.0\n",
            "79.0\n",
            "40.0\n",
            "63.0\n",
            "107.0\n",
            "75.0\n",
            "91.0\n",
            "75.0\n",
            "144.0\n",
            "85.0\n",
            "90.0\n",
            "78.0\n",
            "nan\n",
            "66.0\n",
            "75.0\n",
            "45.0\n",
            "48.0\n",
            "nan\n",
            "nan\n",
            "80.0\n",
            "44.0\n",
            "72.0\n",
            "60.0\n",
            "nan\n",
            "60.0\n",
            "81.0\n",
            "114.0\n",
            "50.0\n",
            "65.0\n",
            "nan\n",
            "24.0\n",
            "80.0\n",
            "30.0\n",
            "44.0\n",
            "100.0\n",
            "75.0\n",
            "60.0\n",
            "90.0\n",
            "21.0\n",
            "75.0\n",
            "70.0\n",
            "nan\n",
            "60.0\n",
            "82.0\n",
            "80.0\n",
            "100.0\n",
            "nan\n",
            "75.0\n",
            "36.0\n",
            "75.0\n",
            "80.0\n",
            "36.0\n",
            "nan\n",
            "53.0\n",
            "nan\n",
            "102.0\n",
            "nan\n",
            "nan\n",
            "65.0\n",
            "80.0\n",
            "nan\n",
            "55.0\n",
            "75.0\n",
            "81.0\n",
            "70.0\n",
            "72.0\n",
            "nan\n",
            "67.0\n",
            "85.0\n",
            "nan\n",
            "80.0\n",
            "60.0\n",
            "70.0\n",
            "74.0\n",
            "60.0\n",
            "52.0\n",
            "75.0\n",
            "94.0\n",
            "74.0\n",
            "88.0\n",
            "nan\n",
            "60.0\n",
            "44.0\n",
            "nan\n",
            "60.0\n",
            "65.0\n",
            "50.0\n",
            "70.0\n",
            "59.0\n",
            "95.0\n",
            "128.0\n",
            "60.0\n",
            "70.0\n",
            "70.0\n",
            "nan\n",
            "64.0\n",
            "71.0\n",
            "50.0\n",
            "64.0\n",
            "100.0\n",
            "65.0\n",
            "nan\n",
            "64.0\n",
            "63.0\n",
            "50.0\n",
            "nan\n",
            "80.0\n",
            "116.0\n",
            "86.0\n",
            "nan\n",
            "149.0\n",
            "80.0\n",
            "nan\n",
            "51.0\n",
            "82.0\n",
            "30.0\n",
            "21.0\n",
            "50.0\n",
            "nan\n",
            "103.0\n",
            "87.0\n",
            "70.0\n",
            "67.0\n",
            "65.0\n",
            "50.0\n",
            "79.0\n",
            "nan\n",
            "93.0\n",
            "nan\n",
            "nan\n",
            "nan\n",
            "73.0\n",
            "70.0\n",
            "84.0\n",
            "63.0\n",
            "313.0\n",
            "52.0\n",
            "67.0\n",
            "75.0\n",
            "73.0\n",
            "nan\n",
            "55.0\n",
            "nan\n",
            "42.0\n",
            "100.0\n",
            "nan\n",
            "98.0\n",
            "70.0\n",
            "85.0\n",
            "65.0\n",
            "78.0\n",
            "60.0\n",
            "60.0\n",
            "60.0\n",
            "nan\n",
            "35.0\n",
            "82.0\n",
            "24.0\n",
            "70.0\n",
            "65.0\n",
            "24.0\n",
            "50.0\n",
            "nan\n",
            "24.0\n",
            "122.0\n",
            "80.0\n",
            "65.0\n",
            "130.0\n",
            "nan\n",
            "50.0\n",
            "75.0\n",
            "60.0\n",
            "36.0\n",
            "55.0\n",
            "95.0\n",
            "60.0\n",
            "nan\n",
            "51.0\n",
            "35.0\n",
            "68.0\n",
            "80.0\n",
            "nan\n",
            "98.0\n",
            "43.0\n",
            "nan\n",
            "75.0\n",
            "68.0\n",
            "59.0\n",
            "83.0\n",
            "nan\n",
            "65.0\n",
            "82.0\n",
            "121.0\n",
            "80.0\n",
            "68.0\n",
            "96.0\n",
            "51.0\n",
            "nan\n",
            "nan\n",
            "60.0\n",
            "64.0\n",
            "74.0\n",
            "60.0\n",
            "75.0\n",
            "nan\n",
            "43.0\n",
            "65.0\n",
            "nan\n",
            "21.0\n",
            "43.0\n",
            "60.0\n",
            "115.0\n",
            "75.0\n",
            "55.0\n",
            "60.0\n",
            "60.0\n",
            "70.0\n",
            "73.0\n",
            "nan\n",
            "nan\n",
            "43.0\n",
            "60.0\n",
            "64.0\n",
            "52.0\n",
            "43.0\n",
            "nan\n",
            "70.0\n",
            "73.0\n",
            "71.0\n",
            "79.0\n",
            "21.0\n",
            "nan\n",
            "102.0\n",
            "nan\n",
            "nan\n",
            "50.0\n",
            "nan\n",
            "89.0\n",
            "nan\n",
            "21.0\n",
            "21.0\n",
            "88.0\n",
            "nan\n",
            "34.0\n",
            "86.0\n",
            "80.0\n",
            "nan\n",
            "85.0\n",
            "57.0\n",
            "100.0\n",
            "60.0\n",
            "73.0\n",
            "103.0\n",
            "100.0\n",
            "68.0\n",
            "90.0\n",
            "104.0\n",
            "43.0\n",
            "nan\n",
            "96.0\n",
            "nan\n",
            "41.0\n",
            "120.0\n",
            "85.0\n",
            "50.0\n",
            "nan\n",
            "80.0\n",
            "59.0\n",
            "80.0\n",
            "42.0\n",
            "60.0\n",
            "72.0\n",
            "78.0\n",
            "50.0\n",
            "75.0\n",
            "74.0\n",
            "75.0\n",
            "60.0\n",
            "nan\n",
            "37.0\n",
            "65.0\n",
            "80.0\n",
            "75.0\n",
            "70.0\n",
            "80.0\n",
            "nan\n",
            "73.0\n",
            "nan\n",
            "85.0\n",
            "24.0\n",
            "37.0\n",
            "60.0\n",
            "24.0\n",
            "60.0\n",
            "71.0\n",
            "74.0\n",
            "78.0\n",
            "60.0\n",
            "nan\n",
            "50.0\n",
            "82.0\n",
            "60.0\n",
            "61.0\n",
            "70.0\n",
            "79.0\n",
            "24.0\n",
            "98.0\n",
            "114.0\n",
            "168.0\n",
            "nan\n",
            "107.0\n",
            "nan\n",
            "80.0\n",
            "73.0\n",
            "66.0\n",
            "90.0\n",
            "93.0\n",
            "nan\n",
            "57.0\n",
            "85.0\n",
            "70.0\n",
            "59.0\n",
            "84.0\n",
            "nan\n",
            "50.0\n",
            "nan\n",
            "60.0\n",
            "53.0\n",
            "182.0\n",
            "59.0\n",
            "60.0\n",
            "65.0\n",
            "63.0\n",
            "90.0\n",
            "80.0\n",
            "57.0\n",
            "60.0\n",
            "80.0\n",
            "54.0\n",
            "nan\n",
            "98.0\n",
            "60.0\n",
            "nan\n",
            "77.0\n",
            "nan\n",
            "60.0\n",
            "52.0\n",
            "nan\n",
            "75.0\n",
            "nan\n",
            "50.0\n",
            "57.0\n",
            "134.0\n",
            "90.0\n",
            "nan\n",
            "nan\n",
            "90.0\n",
            "85.0\n",
            "34.0\n",
            "92.0\n",
            "76.0\n",
            "24.0\n",
            "nan\n",
            "109.0\n",
            "60.0\n",
            "nan\n",
            "79.0\n",
            "64.0\n",
            "58.0\n",
            "120.0\n",
            "118.0\n",
            "76.0\n",
            "76.0\n",
            "35.0\n",
            "138.0\n",
            "80.0\n",
            "85.0\n",
            "37.0\n",
            "nan\n",
            "54.0\n",
            "77.0\n",
            "nan\n",
            "64.0\n",
            "160.0\n",
            "60.0\n",
            "50.0\n",
            "60.0\n",
            "107.0\n",
            "89.0\n",
            "68.0\n",
            "60.0\n",
            "nan\n",
            "24.0\n",
            "60.0\n",
            "nan\n",
            "80.0\n",
            "51.0\n",
            "58.0\n",
            "65.0\n",
            "70.0\n",
            "75.0\n",
            "71.0\n",
            "80.0\n",
            "50.0\n",
            "75.0\n",
            "78.0\n",
            "90.0\n",
            "nan\n",
            "70.0\n",
            "70.0\n",
            "85.0\n",
            "70.0\n",
            "152.0\n",
            "50.0\n",
            "nan\n",
            "69.0\n",
            "99.0\n",
            "68.0\n",
            "72.0\n",
            "52.0\n",
            "21.0\n",
            "66.0\n",
            "55.0\n",
            "78.0\n",
            "89.0\n",
            "60.0\n",
            "65.0\n",
            "86.0\n",
            "72.0\n",
            "65.0\n",
            "70.0\n",
            "nan\n",
            "70.0\n",
            "70.0\n",
            "nan\n",
            "55.0\n",
            "96.0\n",
            "36.0\n",
            "41.0\n",
            "63.0\n",
            "64.0\n",
            "65.0\n",
            "83.0\n",
            "85.0\n",
            "107.0\n",
            "nan\n",
            "78.0\n",
            "65.0\n",
            "nan\n",
            "60.0\n",
            "60.0\n",
            "93.0\n",
            "nan\n",
            "62.0\n",
            "nan\n",
            "60.0\n",
            "52.0\n",
            "91.0\n",
            "56.0\n",
            "59.0\n",
            "65.0\n",
            "nan\n",
            "80.0\n",
            "nan\n",
            "60.0\n",
            "34.0\n",
            "35.0\n",
            "60.0\n",
            "89.0\n",
            "nan\n",
            "78.0\n",
            "nan\n",
            "nan\n",
            "nan\n",
            "124.0\n",
            "53.0\n",
            "95.0\n",
            "nan\n",
            "nan\n",
            "75.0\n",
            "60.0\n",
            "67.0\n",
            "50.0\n",
            "61.0\n",
            "94.0\n",
            "50.0\n",
            "50.0\n",
            "nan\n",
            "nan\n",
            "40.0\n",
            "86.0\n",
            "nan\n",
            "21.0\n",
            "60.0\n",
            "78.0\n",
            "60.0\n",
            "70.0\n",
            "80.0\n",
            "35.0\n",
            "313.0\n",
            "75.0\n",
            "nan\n",
            "nan\n",
            "92.0\n",
            "73.0\n",
            "32.0\n",
            "108.0\n",
            "48.0\n",
            "60.0\n",
            "100.0\n",
            "nan\n",
            "100.0\n",
            "68.0\n",
            "nan\n",
            "108.0\n",
            "60.0\n",
            "85.0\n",
            "61.0\n",
            "47.0\n",
            "nan\n",
            "75.0\n",
            "70.0\n",
            "nan\n",
            "107.0\n",
            "50.0\n",
            "75.0\n",
            "40.0\n",
            "70.0\n",
            "60.0\n",
            "60.0\n",
            "63.0\n",
            "85.0\n",
            "55.0\n",
            "67.0\n",
            "60.0\n",
            "24.0\n",
            "80.0\n",
            "87.0\n",
            "153.0\n",
            "95.0\n",
            "120.0\n",
            "70.0\n",
            "66.0\n",
            "nan\n",
            "57.0\n",
            "85.0\n",
            "50.0\n",
            "nan\n",
            "93.0\n",
            "nan\n",
            "50.0\n",
            "91.0\n",
            "70.0\n",
            "50.0\n",
            "56.0\n",
            "nan\n",
            "102.0\n",
            "nan\n",
            "nan\n",
            "nan\n",
            "129.0\n",
            "51.0\n",
            "124.0\n",
            "nan\n",
            "73.0\n",
            "30.0\n",
            "nan\n",
            "68.0\n",
            "41.0\n",
            "nan\n",
            "48.0\n",
            "90.0\n",
            "80.0\n",
            "75.0\n",
            "nan\n",
            "85.0\n",
            "89.0\n",
            "52.0\n",
            "60.0\n",
            "21.0\n",
            "73.0\n",
            "45.0\n",
            "nan\n",
            "60.0\n",
            "nan\n",
            "60.0\n",
            "40.0\n",
            "80.0\n",
            "60.0\n",
            "42.0\n",
            "60.0\n",
            "70.0\n",
            "65.0\n",
            "68.0\n",
            "60.0\n",
            "53.0\n",
            "88.0\n",
            "nan\n",
            "51.0\n",
            "60.0\n",
            "51.0\n",
            "50.0\n",
            "62.0\n",
            "64.0\n",
            "49.0\n",
            "60.0\n",
            "44.0\n",
            "70.0\n",
            "nan\n",
            "60.0\n",
            "46.0\n",
            "79.0\n",
            "80.0\n",
            "60.0\n",
            "88.0\n",
            "64.0\n",
            "51.0\n",
            "60.0\n",
            "nan\n",
            "71.0\n",
            "nan\n",
            "90.0\n",
            "53.0\n",
            "37.0\n",
            "nan\n",
            "nan\n",
            "80.0\n",
            "81.0\n",
            "60.0\n",
            "60.0\n",
            "nan\n",
            "60.0\n",
            "nan\n",
            "60.0\n",
            "93.0\n",
            "80.0\n",
            "80.0\n",
            "60.0\n",
            "96.0\n",
            "90.0\n",
            "80.0\n",
            "79.0\n",
            "nan\n",
            "85.0\n",
            "nan\n",
            "63.0\n",
            "70.0\n",
            "nan\n",
            "80.0\n",
            "70.0\n",
            "21.0\n",
            "60.0\n",
            "78.0\n",
            "35.0\n",
            "90.0\n",
            "62.0\n",
            "62.0\n",
            "85.0\n",
            "66.0\n",
            "68.0\n",
            "75.0\n"
          ]
        },
        {
          "output_type": "execute_result",
          "data": {
            "text/plain": [
              "<Axes: >"
            ]
          },
          "metadata": {},
          "execution_count": 7
        },
        {
          "output_type": "display_data",
          "data": {
            "text/plain": [
              "<Figure size 640x480 with 1 Axes>"
            ],
            "image/png": "[encoded data removed]"
          },
          "metadata": {}
        }
      ],
      "source": [
        "import pandas as pd\n",
        "import numpy as np\n",
        "df=pd.read_csv('/content/train.csv')\n",
        "df.head()\n",
        "df.columns\n",
        "df=df.drop(columns=['Id'],axis=1)\n",
        "df.shape\n",
        "#pd.set_option('max_rows',2000)\n",
        "#pd.set_option('max_columns',2000)\n",
        "df.head()\n",
        "for x in df['LotFrontage']:\n",
        "  print(x)\n",
        "\n",
        "\n",
        "import seaborn as sns\n",
        "sns.boxplot(df['LotArea'])\n",
        "\n",
        "#for x in df.columns:\n",
        "  #print(df[x][0])\n"
      ]
    },
    {
      "cell_type": "code",
      "source": [
        "\n",
        "df.dtypes\n",
        "#convert MSSubClass to object type as it is a categorical feature\n",
        "df['MSSubClass'] = df['MSSubClass'].astype(str)\n",
        "df.dtypes\n",
        "df.select_dtypes(exclude='object')\n",
        "#check for categorical features having null values greater than 1\n",
        "cat=df.select_dtypes(include='object')\n",
        "type(cat)\n",
        "list=[]\n",
        "for col in cat.columns:\n",
        "  if cat[col].isna().sum()>0:\n",
        "    list.append(col)\n",
        "\n",
        "\n",
        "print(list)\n",
        "print(len(list))\n",
        "\n",
        "import seaborn as sns\n",
        "#cat['Alley'].value_counts().plot(kind='bar')\n",
        "#cat['Alley'].value_counts()\n",
        "\n",
        "#segregating categorical columns with NA as special meaning,those NA should not be replaced by mode rather it should be replaced by none\n",
        "\n",
        "for column in ['Alley','BsmtFinType2','BsmtFinType1','FireplaceQu','GarageType','GarageQual','GarageCond','PoolQC','MiscFeature','Fence','GarageFinish','BsmtQual','BsmtExposure','GarageFinish','BsmtCond']:\n",
        "  df[column]=df[column].fillna(\"None\")\n",
        "\n",
        "for column in ['MasVnrType','Electrical']:\n",
        "  df[column]=df[column].fillna(df[column].mode()[0])\n",
        "\n",
        "#imputing numerical columns\n",
        "catnumber=df.select_dtypes(exclude='object')\n",
        "listnew=[]\n",
        "for col in catnumber.columns:\n",
        "  if catnumber[col].isnull().sum()>0:\n",
        "    listnew.append(col)\n",
        "\n",
        "#df.isnull().sum()\n",
        "\n",
        "print(listnew)\n",
        "\n",
        "#we will do KNN imputation for imputing values in numeric columns\n",
        "\n",
        "from sklearn.neighbors import KNeighborsRegressor\n",
        "\n",
        "def knnimpute(df,na_target):\n",
        "  df=df.copy()\n",
        "  numeric_df=df.select_dtypes(np.number)\n",
        "\n",
        "  non_na_columns=numeric_df.loc[: ,numeric_df.isna().sum()==0].columns   #just the columns(numeric) with non missing values\n",
        "  y_train=numeric_df.loc[numeric_df[na_target].isna()==False,na_target]   #basically the values in column(na_target)which are non null\n",
        "  x_train=numeric_df.loc[numeric_df[na_target].isna()==False,non_na_columns]  #basicallly all the values of columns where there are no missing values corresponding to na_target\n",
        "  x_test=numeric_df.loc[numeric_df[na_target].isna()==True,non_na_columns] #basically all the values where corresponding to na_target null values we have other column non null values\n",
        "  knn=KNeighborsRegressor()\n",
        "  knn.fit(x_train,y_train)\n",
        "  y_pred=knn.predict(x_test)\n",
        "  df.loc[df[na_target].isna()==True,na_target]=y_pred\n",
        "  return df\n",
        "\n",
        "\n",
        "#knnimpute(df,'LotFrontage') #basically this functon is returning me numeric columns in this dataframe\n",
        "for column in ['LotFrontage', 'MasVnrArea', 'GarageYrBlt']:\n",
        "  df=knnimpute(df,column)\n",
        "\n",
        "\n",
        "#check for null values now-\n",
        "df.isnull().sum()\n",
        "\n",
        "\n",
        "\n",
        "\n",
        "\n",
        "\n",
        "\n",
        "\n"
      ],
      "metadata": {
        "colab": {
          "base_uri": "https://localhost:8080/"
        },
        "id": "nnme6mAkzfgL",
        "outputId": "891f2e46-9d27-475e-f14f-7da416a7b4c1"
      },
      "execution_count": 8,
      "outputs": [
        {
          "output_type": "stream",
          "name": "stdout",
          "text": [
            "['Alley', 'MasVnrType', 'BsmtQual', 'BsmtCond', 'BsmtExposure', 'BsmtFinType1', 'BsmtFinType2', 'Electrical', 'FireplaceQu', 'GarageType', 'GarageFinish', 'GarageQual', 'GarageCond', 'PoolQC', 'Fence', 'MiscFeature']\n",
            "16\n",
            "['LotFrontage', 'MasVnrArea', 'GarageYrBlt']\n"
          ]
        },
        {
          "output_type": "execute_result",
          "data": {
            "text/plain": [
              "MSSubClass       0\n",
              "MSZoning         0\n",
              "LotFrontage      0\n",
              "LotArea          0\n",
              "Street           0\n",
              "                ..\n",
              "MoSold           0\n",
              "YrSold           0\n",
              "SaleType         0\n",
              "SaleCondition    0\n",
              "SalePrice        0\n",
              "Length: 80, dtype: int64"
            ]
          },
          "metadata": {},
          "execution_count": 8
        }
      ]
    },
    {
      "cell_type": "code",
      "source": [
        "#OUTLIER DETECTION AND REMOVAL-\n",
        "#outlier can only be possible in numeric columns as categorical columns will always have values belonging to a specific category\n",
        "numeric_df=df.select_dtypes(exclude='object')\n",
        "numeric_df.shape\n",
        "\n",
        "\n",
        "#Here we have used IQR to detect the outliers and then replace it with the values higher limit and lower limit of that particular column\n",
        "#listnumeric=[]\n",
        "#for col in numeric_df.columns:\n",
        "  #listnumeric.append(col)\n",
        "\n",
        "\n",
        "#print(listnumeric)\n",
        "\n",
        "for column in ['LotFrontage', 'LotArea', 'OverallQual', 'OverallCond', 'YearBuilt', 'YearRemodAdd', 'MasVnrArea', 'BsmtFinSF1', 'BsmtFinSF2', 'BsmtUnfSF', 'TotalBsmtSF', '1stFlrSF', '2ndFlrSF', 'LowQualFinSF', 'GrLivArea', 'BsmtFullBath', 'BsmtHalfBath', 'FullBath', 'HalfBath', 'BedroomAbvGr', 'KitchenAbvGr', 'TotRmsAbvGrd', 'Fireplaces', 'GarageYrBlt', 'GarageCars', 'GarageArea', 'WoodDeckSF', 'OpenPorchSF', 'EnclosedPorch', '3SsnPorch', 'ScreenPorch', 'PoolArea', 'MiscVal', 'MoSold', 'YrSold', 'SalePrice']:\n",
        "  Q1=df[column].quantile(0.25)\n",
        "  Q3=df[column].quantile(0.75)\n",
        "  IQR=Q3-Q1\n",
        "\n",
        "  lower_lim=Q1-IQR*1.5\n",
        "  higher_lim=Q3+IQR*1.5\n",
        "\n",
        "  df[column]=np.where(df[column]>higher_lim,higher_lim,np.where(df[column]<lower_lim,lower_lim,df[column]))\n",
        "\n",
        "\n"
      ],
      "metadata": {
        "id": "U6bJ9L20dhkY"
      },
      "execution_count": 9,
      "outputs": []
    },
    {
      "cell_type": "code",
      "source": [
        "import seaborn as sns\n",
        "sns.boxplot(x=df['LotArea'])"
      ],
      "metadata": {
        "colab": {
          "base_uri": "https://localhost:8080/",
          "height": 467
        },
        "id": "8_slgspr-qcK",
        "outputId": "917cd474-1209-4727-80f9-838f47544bf7"
      },
      "execution_count": 10,
      "outputs": [
        {
          "output_type": "execute_result",
          "data": {
            "text/plain": [
              "<Axes: xlabel='LotArea'>"
            ]
          },
          "metadata": {},
          "execution_count": 10
        },
        {
          "output_type": "display_data",
          "data": {
            "text/plain": [
              "<Figure size 640x480 with 1 Axes>"
            ],
            "image/png": "[encoded data removed]"
          },
          "metadata": {}
        }
      ]
    },
    {
      "cell_type": "code",
      "source": [
        "sns.boxplot(x=numeric_df['LotArea'])"
      ],
      "metadata": {
        "colab": {
          "base_uri": "https://localhost:8080/",
          "height": 467
        },
        "id": "v-k7Bi9S-4Nu",
        "outputId": "e674d654-e410-4dc3-b22b-984ad6995528"
      },
      "execution_count": 11,
      "outputs": [
        {
          "output_type": "execute_result",
          "data": {
            "text/plain": [
              "<Axes: xlabel='LotArea'>"
            ]
          },
          "metadata": {},
          "execution_count": 11
        },
        {
          "output_type": "display_data",
          "data": {
            "text/plain": [
              "<Figure size 640x480 with 1 Axes>"
            ],
            "image/png": "[encoded data removed]"
          },
          "metadata": {}
        }
      ]
    },
    {
      "cell_type": "code",
      "source": [
        "#now we will convert categorical columns into numeric one through frequency encoding-\n",
        "\n",
        "new_df=df.select_dtypes(include='object')\n",
        "list=[]\n",
        "for c in new_df:\n",
        "  list.append(c)\n",
        "\n",
        "#print(list)\n",
        "for c in (list):\n",
        "  df[c+'_freq']=df[c].map(df.groupby(c).size()/df.shape[0])\n",
        "\n",
        "df.shape\n",
        "\n",
        "\n",
        "\n"
      ],
      "metadata": {
        "colab": {
          "base_uri": "https://localhost:8080/"
        },
        "id": "W9EjgmHDUdct",
        "outputId": "5e33b23a-7b16-491e-e7a8-b985deef5938"
      },
      "execution_count": 12,
      "outputs": [
        {
          "output_type": "execute_result",
          "data": {
            "text/plain": [
              "(1460, 124)"
            ]
          },
          "metadata": {},
          "execution_count": 12
        }
      ]
    },
    {
      "cell_type": "code",
      "source": [
        "df=df.drop(columns=[col for col in list],axis=1)"
      ],
      "metadata": {
        "id": "Em30exhpfelz"
      },
      "execution_count": 13,
      "outputs": []
    },
    {
      "cell_type": "code",
      "source": [
        "df.shape\n",
        "#df['Alley_freq']"
      ],
      "metadata": {
        "colab": {
          "base_uri": "https://localhost:8080/"
        },
        "id": "ijdCN6XCe_9x",
        "outputId": "f147e05c-ed6f-4fcb-bd1b-d76ea07fe704"
      },
      "execution_count": 14,
      "outputs": [
        {
          "output_type": "execute_result",
          "data": {
            "text/plain": [
              "(1460, 80)"
            ]
          },
          "metadata": {},
          "execution_count": 14
        }
      ]
    },
    {
      "cell_type": "code",
      "source": [
        "from sklearn.model_selection import train_test_split\n",
        "Y=df['SalePrice']"
      ],
      "metadata": {
        "id": "hOxvmVElfysY"
      },
      "execution_count": 15,
      "outputs": []
    },
    {
      "cell_type": "code",
      "source": [
        "col=\"SalePrice\"\n",
        "X = df.loc[:, df.columns != col]"
      ],
      "metadata": {
        "id": "JUFfVdzpf0cy"
      },
      "execution_count": 16,
      "outputs": []
    },
    {
      "cell_type": "code",
      "source": [
        "X_train, X_test, y_train, y_test = train_test_split(X, Y, test_size=0.3, random_state=0)"
      ],
      "metadata": {
        "id": "w4Y5NCxGf5PT"
      },
      "execution_count": 17,
      "outputs": []
    },
    {
      "cell_type": "code",
      "source": [
        "from sklearn.ensemble import RandomForestRegressor\n",
        "from sklearn.metrics import mean_squared_error\n",
        "regressor=RandomForestRegressor()\n",
        "\n",
        "from sklearn.model_selection import RandomizedSearchCV\n",
        "\n",
        "import numpy as np\n",
        "n_estimators = [int(x) for x in np.linspace(start = 100, stop = 1200, num = 12)]\n",
        "# Number of features to consider at every split\n",
        "max_features = ['auto', 'sqrt']\n",
        "# Maximum number of levels in tree\n",
        "max_depth = [int(x) for x in np.linspace(5, 30, num = 6)]\n",
        "# max_depth.append(None)\n",
        "# Minimum number of samples required to split a node\n",
        "min_samples_split = [2, 5, 10, 15, 100]\n",
        "# Minimum number of samples required at each leaf node\n",
        "min_samples_leaf = [1, 2, 5, 10]"
      ],
      "metadata": {
        "id": "JIIIxg2XUnTu"
      },
      "execution_count": 18,
      "outputs": []
    },
    {
      "cell_type": "code",
      "source": [
        "random_grid = {'n_estimators': n_estimators,\n",
        "               'max_features': max_features,\n",
        "               'max_depth': max_depth,\n",
        "               'min_samples_split': min_samples_split,\n",
        "               'min_samples_leaf': min_samples_leaf}\n",
        "\n",
        "print(random_grid)"
      ],
      "metadata": {
        "colab": {
          "base_uri": "https://localhost:8080/"
        },
        "id": "jZEvjM9_gc_0",
        "outputId": "d8ac84f8-d081-492a-a5fd-8107c25cdfce"
      },
      "execution_count": 19,
      "outputs": [
        {
          "output_type": "stream",
          "name": "stdout",
          "text": [
            "{'n_estimators': [100, 200, 300, 400, 500, 600, 700, 800, 900, 1000, 1100, 1200], 'max_features': ['auto', 'sqrt'], 'max_depth': [5, 10, 15, 20, 25, 30], 'min_samples_split': [2, 5, 10, 15, 100], 'min_samples_leaf': [1, 2, 5, 10]}\n"
          ]
        }
      ]
    },
    {
      "cell_type": "code",
      "source": [
        "rf = RandomForestRegressor()"
      ],
      "metadata": {
        "id": "Xnj7n-Yvghwg"
      },
      "execution_count": 20,
      "outputs": []
    },
    {
      "cell_type": "code",
      "source": [
        "rf_random = RandomizedSearchCV(estimator = rf, param_distributions = random_grid,scoring='neg_mean_squared_error', n_iter = 10, cv = 5, verbose=2, random_state=42,n_jobs=1)"
      ],
      "metadata": {
        "id": "rQTU8Z86g-25"
      },
      "execution_count": 21,
      "outputs": []
    },
    {
      "cell_type": "code",
      "source": [
        "rf_random.fit(X_train,y_train)"
      ],
      "metadata": {
        "colab": {
          "base_uri": "https://localhost:8080/",
          "height": 1000
        },
        "id": "r0dPWqM6hBfL",
        "outputId": "4b7a82e2-4f90-4e70-e9b0-ae8a45f3eafa"
      },
      "execution_count": 22,
      "outputs": [
        {
          "output_type": "stream",
          "name": "stdout",
          "text": [
            "Fitting 5 folds for each of 10 candidates, totalling 50 fits\n",
            "[CV] END max_depth=10, max_features=sqrt, min_samples_leaf=5, min_samples_split=5, n_estimators=900; total time=   2.0s\n",
            "[CV] END max_depth=10, max_features=sqrt, min_samples_leaf=5, min_samples_split=5, n_estimators=900; total time=   2.0s\n",
            "[CV] END max_depth=10, max_features=sqrt, min_samples_leaf=5, min_samples_split=5, n_estimators=900; total time=   3.0s\n",
            "[CV] END max_depth=10, max_features=sqrt, min_samples_leaf=5, min_samples_split=5, n_estimators=900; total time=   2.0s\n",
            "[CV] END max_depth=10, max_features=sqrt, min_samples_leaf=5, min_samples_split=5, n_estimators=900; total time=   2.0s\n",
            "[CV] END max_depth=15, max_features=sqrt, min_samples_leaf=2, min_samples_split=10, n_estimators=1100; total time=   2.6s\n",
            "[CV] END max_depth=15, max_features=sqrt, min_samples_leaf=2, min_samples_split=10, n_estimators=1100; total time=   2.6s\n",
            "[CV] END max_depth=15, max_features=sqrt, min_samples_leaf=2, min_samples_split=10, n_estimators=1100; total time=   3.6s\n",
            "[CV] END max_depth=15, max_features=sqrt, min_samples_leaf=2, min_samples_split=10, n_estimators=1100; total time=   2.6s\n",
            "[CV] END max_depth=15, max_features=sqrt, min_samples_leaf=2, min_samples_split=10, n_estimators=1100; total time=   2.6s\n"
          ]
        },
        {
          "output_type": "stream",
          "name": "stderr",
          "text": [
            "/usr/local/lib/python3.10/dist-packages/sklearn/ensemble/_forest.py:413: FutureWarning: `max_features='auto'` has been deprecated in 1.1 and will be removed in 1.3. To keep the past behaviour, explicitly set `max_features=1.0` or remove this parameter as it is also the default value for RandomForestRegressors and ExtraTreesRegressors.\n",
            "  warn(\n"
          ]
        },
        {
          "output_type": "stream",
          "name": "stdout",
          "text": [
            "[CV] END max_depth=15, max_features=auto, min_samples_leaf=5, min_samples_split=100, n_estimators=300; total time=   1.4s\n"
          ]
        },
        {
          "output_type": "stream",
          "name": "stderr",
          "text": [
            "/usr/local/lib/python3.10/dist-packages/sklearn/ensemble/_forest.py:413: FutureWarning: `max_features='auto'` has been deprecated in 1.1 and will be removed in 1.3. To keep the past behaviour, explicitly set `max_features=1.0` or remove this parameter as it is also the default value for RandomForestRegressors and ExtraTreesRegressors.\n",
            "  warn(\n"
          ]
        },
        {
          "output_type": "stream",
          "name": "stdout",
          "text": [
            "[CV] END max_depth=15, max_features=auto, min_samples_leaf=5, min_samples_split=100, n_estimators=300; total time=   1.4s\n"
          ]
        },
        {
          "output_type": "stream",
          "name": "stderr",
          "text": [
            "/usr/local/lib/python3.10/dist-packages/sklearn/ensemble/_forest.py:413: FutureWarning: `max_features='auto'` has been deprecated in 1.1 and will be removed in 1.3. To keep the past behaviour, explicitly set `max_features=1.0` or remove this parameter as it is also the default value for RandomForestRegressors and ExtraTreesRegressors.\n",
            "  warn(\n"
          ]
        },
        {
          "output_type": "stream",
          "name": "stdout",
          "text": [
            "[CV] END max_depth=15, max_features=auto, min_samples_leaf=5, min_samples_split=100, n_estimators=300; total time=   1.4s\n"
          ]
        },
        {
          "output_type": "stream",
          "name": "stderr",
          "text": [
            "/usr/local/lib/python3.10/dist-packages/sklearn/ensemble/_forest.py:413: FutureWarning: `max_features='auto'` has been deprecated in 1.1 and will be removed in 1.3. To keep the past behaviour, explicitly set `max_features=1.0` or remove this parameter as it is also the default value for RandomForestRegressors and ExtraTreesRegressors.\n",
            "  warn(\n"
          ]
        },
        {
          "output_type": "stream",
          "name": "stdout",
          "text": [
            "[CV] END max_depth=15, max_features=auto, min_samples_leaf=5, min_samples_split=100, n_estimators=300; total time=   1.9s\n"
          ]
        },
        {
          "output_type": "stream",
          "name": "stderr",
          "text": [
            "/usr/local/lib/python3.10/dist-packages/sklearn/ensemble/_forest.py:413: FutureWarning: `max_features='auto'` has been deprecated in 1.1 and will be removed in 1.3. To keep the past behaviour, explicitly set `max_features=1.0` or remove this parameter as it is also the default value for RandomForestRegressors and ExtraTreesRegressors.\n",
            "  warn(\n"
          ]
        },
        {
          "output_type": "stream",
          "name": "stdout",
          "text": [
            "[CV] END max_depth=15, max_features=auto, min_samples_leaf=5, min_samples_split=100, n_estimators=300; total time=   1.8s\n"
          ]
        },
        {
          "output_type": "stream",
          "name": "stderr",
          "text": [
            "/usr/local/lib/python3.10/dist-packages/sklearn/ensemble/_forest.py:413: FutureWarning: `max_features='auto'` has been deprecated in 1.1 and will be removed in 1.3. To keep the past behaviour, explicitly set `max_features=1.0` or remove this parameter as it is also the default value for RandomForestRegressors and ExtraTreesRegressors.\n",
            "  warn(\n"
          ]
        },
        {
          "output_type": "stream",
          "name": "stdout",
          "text": [
            "[CV] END max_depth=15, max_features=auto, min_samples_leaf=5, min_samples_split=5, n_estimators=400; total time=   3.3s\n"
          ]
        },
        {
          "output_type": "stream",
          "name": "stderr",
          "text": [
            "/usr/local/lib/python3.10/dist-packages/sklearn/ensemble/_forest.py:413: FutureWarning: `max_features='auto'` has been deprecated in 1.1 and will be removed in 1.3. To keep the past behaviour, explicitly set `max_features=1.0` or remove this parameter as it is also the default value for RandomForestRegressors and ExtraTreesRegressors.\n",
            "  warn(\n"
          ]
        },
        {
          "output_type": "stream",
          "name": "stdout",
          "text": [
            "[CV] END max_depth=15, max_features=auto, min_samples_leaf=5, min_samples_split=5, n_estimators=400; total time=   3.3s\n"
          ]
        },
        {
          "output_type": "stream",
          "name": "stderr",
          "text": [
            "/usr/local/lib/python3.10/dist-packages/sklearn/ensemble/_forest.py:413: FutureWarning: `max_features='auto'` has been deprecated in 1.1 and will be removed in 1.3. To keep the past behaviour, explicitly set `max_features=1.0` or remove this parameter as it is also the default value for RandomForestRegressors and ExtraTreesRegressors.\n",
            "  warn(\n"
          ]
        },
        {
          "output_type": "stream",
          "name": "stdout",
          "text": [
            "[CV] END max_depth=15, max_features=auto, min_samples_leaf=5, min_samples_split=5, n_estimators=400; total time=   3.6s\n"
          ]
        },
        {
          "output_type": "stream",
          "name": "stderr",
          "text": [
            "/usr/local/lib/python3.10/dist-packages/sklearn/ensemble/_forest.py:413: FutureWarning: `max_features='auto'` has been deprecated in 1.1 and will be removed in 1.3. To keep the past behaviour, explicitly set `max_features=1.0` or remove this parameter as it is also the default value for RandomForestRegressors and ExtraTreesRegressors.\n",
            "  warn(\n"
          ]
        },
        {
          "output_type": "stream",
          "name": "stdout",
          "text": [
            "[CV] END max_depth=15, max_features=auto, min_samples_leaf=5, min_samples_split=5, n_estimators=400; total time=   4.0s\n"
          ]
        },
        {
          "output_type": "stream",
          "name": "stderr",
          "text": [
            "/usr/local/lib/python3.10/dist-packages/sklearn/ensemble/_forest.py:413: FutureWarning: `max_features='auto'` has been deprecated in 1.1 and will be removed in 1.3. To keep the past behaviour, explicitly set `max_features=1.0` or remove this parameter as it is also the default value for RandomForestRegressors and ExtraTreesRegressors.\n",
            "  warn(\n"
          ]
        },
        {
          "output_type": "stream",
          "name": "stdout",
          "text": [
            "[CV] END max_depth=15, max_features=auto, min_samples_leaf=5, min_samples_split=5, n_estimators=400; total time=   3.3s\n"
          ]
        },
        {
          "output_type": "stream",
          "name": "stderr",
          "text": [
            "/usr/local/lib/python3.10/dist-packages/sklearn/ensemble/_forest.py:413: FutureWarning: `max_features='auto'` has been deprecated in 1.1 and will be removed in 1.3. To keep the past behaviour, explicitly set `max_features=1.0` or remove this parameter as it is also the default value for RandomForestRegressors and ExtraTreesRegressors.\n",
            "  warn(\n"
          ]
        },
        {
          "output_type": "stream",
          "name": "stdout",
          "text": [
            "[CV] END max_depth=20, max_features=auto, min_samples_leaf=10, min_samples_split=5, n_estimators=700; total time=   4.8s\n"
          ]
        },
        {
          "output_type": "stream",
          "name": "stderr",
          "text": [
            "/usr/local/lib/python3.10/dist-packages/sklearn/ensemble/_forest.py:413: FutureWarning: `max_features='auto'` has been deprecated in 1.1 and will be removed in 1.3. To keep the past behaviour, explicitly set `max_features=1.0` or remove this parameter as it is also the default value for RandomForestRegressors and ExtraTreesRegressors.\n",
            "  warn(\n"
          ]
        },
        {
          "output_type": "stream",
          "name": "stdout",
          "text": [
            "[CV] END max_depth=20, max_features=auto, min_samples_leaf=10, min_samples_split=5, n_estimators=700; total time=   5.7s\n"
          ]
        },
        {
          "output_type": "stream",
          "name": "stderr",
          "text": [
            "/usr/local/lib/python3.10/dist-packages/sklearn/ensemble/_forest.py:413: FutureWarning: `max_features='auto'` has been deprecated in 1.1 and will be removed in 1.3. To keep the past behaviour, explicitly set `max_features=1.0` or remove this parameter as it is also the default value for RandomForestRegressors and ExtraTreesRegressors.\n",
            "  warn(\n"
          ]
        },
        {
          "output_type": "stream",
          "name": "stdout",
          "text": [
            "[CV] END max_depth=20, max_features=auto, min_samples_leaf=10, min_samples_split=5, n_estimators=700; total time=   4.7s\n"
          ]
        },
        {
          "output_type": "stream",
          "name": "stderr",
          "text": [
            "/usr/local/lib/python3.10/dist-packages/sklearn/ensemble/_forest.py:413: FutureWarning: `max_features='auto'` has been deprecated in 1.1 and will be removed in 1.3. To keep the past behaviour, explicitly set `max_features=1.0` or remove this parameter as it is also the default value for RandomForestRegressors and ExtraTreesRegressors.\n",
            "  warn(\n"
          ]
        },
        {
          "output_type": "stream",
          "name": "stdout",
          "text": [
            "[CV] END max_depth=20, max_features=auto, min_samples_leaf=10, min_samples_split=5, n_estimators=700; total time=   5.7s\n"
          ]
        },
        {
          "output_type": "stream",
          "name": "stderr",
          "text": [
            "/usr/local/lib/python3.10/dist-packages/sklearn/ensemble/_forest.py:413: FutureWarning: `max_features='auto'` has been deprecated in 1.1 and will be removed in 1.3. To keep the past behaviour, explicitly set `max_features=1.0` or remove this parameter as it is also the default value for RandomForestRegressors and ExtraTreesRegressors.\n",
            "  warn(\n"
          ]
        },
        {
          "output_type": "stream",
          "name": "stdout",
          "text": [
            "[CV] END max_depth=20, max_features=auto, min_samples_leaf=10, min_samples_split=5, n_estimators=700; total time=   4.8s\n",
            "[CV] END max_depth=25, max_features=sqrt, min_samples_leaf=1, min_samples_split=2, n_estimators=1000; total time=   3.1s\n",
            "[CV] END max_depth=25, max_features=sqrt, min_samples_leaf=1, min_samples_split=2, n_estimators=1000; total time=   4.1s\n",
            "[CV] END max_depth=25, max_features=sqrt, min_samples_leaf=1, min_samples_split=2, n_estimators=1000; total time=   3.0s\n",
            "[CV] END max_depth=25, max_features=sqrt, min_samples_leaf=1, min_samples_split=2, n_estimators=1000; total time=   3.1s\n",
            "[CV] END max_depth=25, max_features=sqrt, min_samples_leaf=1, min_samples_split=2, n_estimators=1000; total time=   3.0s\n",
            "[CV] END max_depth=5, max_features=sqrt, min_samples_leaf=10, min_samples_split=15, n_estimators=1100; total time=   2.9s\n",
            "[CV] END max_depth=5, max_features=sqrt, min_samples_leaf=10, min_samples_split=15, n_estimators=1100; total time=   2.3s\n",
            "[CV] END max_depth=5, max_features=sqrt, min_samples_leaf=10, min_samples_split=15, n_estimators=1100; total time=   2.0s\n",
            "[CV] END max_depth=5, max_features=sqrt, min_samples_leaf=10, min_samples_split=15, n_estimators=1100; total time=   2.1s\n",
            "[CV] END max_depth=5, max_features=sqrt, min_samples_leaf=10, min_samples_split=15, n_estimators=1100; total time=   2.1s\n",
            "[CV] END max_depth=15, max_features=sqrt, min_samples_leaf=1, min_samples_split=15, n_estimators=300; total time=   0.7s\n",
            "[CV] END max_depth=15, max_features=sqrt, min_samples_leaf=1, min_samples_split=15, n_estimators=300; total time=   0.7s\n",
            "[CV] END max_depth=15, max_features=sqrt, min_samples_leaf=1, min_samples_split=15, n_estimators=300; total time=   0.7s\n",
            "[CV] END max_depth=15, max_features=sqrt, min_samples_leaf=1, min_samples_split=15, n_estimators=300; total time=   1.1s\n",
            "[CV] END max_depth=15, max_features=sqrt, min_samples_leaf=1, min_samples_split=15, n_estimators=300; total time=   1.1s\n",
            "[CV] END max_depth=5, max_features=sqrt, min_samples_leaf=2, min_samples_split=10, n_estimators=700; total time=   1.6s\n",
            "[CV] END max_depth=5, max_features=sqrt, min_samples_leaf=2, min_samples_split=10, n_estimators=700; total time=   1.3s\n",
            "[CV] END max_depth=5, max_features=sqrt, min_samples_leaf=2, min_samples_split=10, n_estimators=700; total time=   1.3s\n",
            "[CV] END max_depth=5, max_features=sqrt, min_samples_leaf=2, min_samples_split=10, n_estimators=700; total time=   1.4s\n",
            "[CV] END max_depth=5, max_features=sqrt, min_samples_leaf=2, min_samples_split=10, n_estimators=700; total time=   1.3s\n"
          ]
        },
        {
          "output_type": "stream",
          "name": "stderr",
          "text": [
            "/usr/local/lib/python3.10/dist-packages/sklearn/ensemble/_forest.py:413: FutureWarning: `max_features='auto'` has been deprecated in 1.1 and will be removed in 1.3. To keep the past behaviour, explicitly set `max_features=1.0` or remove this parameter as it is also the default value for RandomForestRegressors and ExtraTreesRegressors.\n",
            "  warn(\n"
          ]
        },
        {
          "output_type": "stream",
          "name": "stdout",
          "text": [
            "[CV] END max_depth=20, max_features=auto, min_samples_leaf=1, min_samples_split=15, n_estimators=700; total time=   7.0s\n"
          ]
        },
        {
          "output_type": "stream",
          "name": "stderr",
          "text": [
            "/usr/local/lib/python3.10/dist-packages/sklearn/ensemble/_forest.py:413: FutureWarning: `max_features='auto'` has been deprecated in 1.1 and will be removed in 1.3. To keep the past behaviour, explicitly set `max_features=1.0` or remove this parameter as it is also the default value for RandomForestRegressors and ExtraTreesRegressors.\n",
            "  warn(\n"
          ]
        },
        {
          "output_type": "stream",
          "name": "stdout",
          "text": [
            "[CV] END max_depth=20, max_features=auto, min_samples_leaf=1, min_samples_split=15, n_estimators=700; total time=   6.1s\n"
          ]
        },
        {
          "output_type": "stream",
          "name": "stderr",
          "text": [
            "/usr/local/lib/python3.10/dist-packages/sklearn/ensemble/_forest.py:413: FutureWarning: `max_features='auto'` has been deprecated in 1.1 and will be removed in 1.3. To keep the past behaviour, explicitly set `max_features=1.0` or remove this parameter as it is also the default value for RandomForestRegressors and ExtraTreesRegressors.\n",
            "  warn(\n"
          ]
        },
        {
          "output_type": "stream",
          "name": "stdout",
          "text": [
            "[CV] END max_depth=20, max_features=auto, min_samples_leaf=1, min_samples_split=15, n_estimators=700; total time=   6.9s\n"
          ]
        },
        {
          "output_type": "stream",
          "name": "stderr",
          "text": [
            "/usr/local/lib/python3.10/dist-packages/sklearn/ensemble/_forest.py:413: FutureWarning: `max_features='auto'` has been deprecated in 1.1 and will be removed in 1.3. To keep the past behaviour, explicitly set `max_features=1.0` or remove this parameter as it is also the default value for RandomForestRegressors and ExtraTreesRegressors.\n",
            "  warn(\n"
          ]
        },
        {
          "output_type": "stream",
          "name": "stdout",
          "text": [
            "[CV] END max_depth=20, max_features=auto, min_samples_leaf=1, min_samples_split=15, n_estimators=700; total time=   6.1s\n"
          ]
        },
        {
          "output_type": "stream",
          "name": "stderr",
          "text": [
            "/usr/local/lib/python3.10/dist-packages/sklearn/ensemble/_forest.py:413: FutureWarning: `max_features='auto'` has been deprecated in 1.1 and will be removed in 1.3. To keep the past behaviour, explicitly set `max_features=1.0` or remove this parameter as it is also the default value for RandomForestRegressors and ExtraTreesRegressors.\n",
            "  warn(\n"
          ]
        },
        {
          "output_type": "stream",
          "name": "stdout",
          "text": [
            "[CV] END max_depth=20, max_features=auto, min_samples_leaf=1, min_samples_split=15, n_estimators=700; total time=   6.9s\n"
          ]
        },
        {
          "output_type": "execute_result",
          "data": {
            "text/plain": [
              "RandomizedSearchCV(cv=5, estimator=RandomForestRegressor(), n_jobs=1,\n",
              "                   param_distributions={'max_depth': [5, 10, 15, 20, 25, 30],\n",
              "                                        'max_features': ['auto', 'sqrt'],\n",
              "                                        'min_samples_leaf': [1, 2, 5, 10],\n",
              "                                        'min_samples_split': [2, 5, 10, 15,\n",
              "                                                              100],\n",
              "                                        'n_estimators': [100, 200, 300, 400,\n",
              "                                                         500, 600, 700, 800,\n",
              "                                                         900, 1000, 1100,\n",
              "                                                         1200]},\n",
              "                   random_state=42, scoring='neg_mean_squared_error',\n",
              "                   verbose=2)"
            ],
            "text/html": [
              "<style>#sk-container-id-1 {color: black;background-color: white;}#sk-container-id-1 pre{padding: 0;}#sk-container-id-1 div.sk-toggleable {background-color: white;}#sk-container-id-1 label.sk-toggleable__label {cursor: pointer;display: block;width: 100%;margin-bottom: 0;padding: 0.3em;box-sizing: border-box;text-align: center;}#sk-container-id-1 label.sk-toggleable__label-arrow:before {content: \"▸\";float: left;margin-right: 0.25em;color: #696969;}#sk-container-id-1 label.sk-toggleable__label-arrow:hover:before {color: black;}#sk-container-id-1 div.sk-estimator:hover label.sk-toggleable__label-arrow:before {color: black;}#sk-container-id-1 div.sk-toggleable__content {max-height: 0;max-width: 0;overflow: hidden;text-align: left;background-color: #f0f8ff;}#sk-container-id-1 div.sk-toggleable__content pre {margin: 0.2em;color: black;border-radius: 0.25em;background-color: #f0f8ff;}#sk-container-id-1 input.sk-toggleable__control:checked~div.sk-toggleable__content {max-height: 200px;max-width: 100%;overflow: auto;}#sk-container-id-1 input.sk-toggleable__control:checked~label.sk-toggleable__label-arrow:before {content: \"▾\";}#sk-container-id-1 div.sk-estimator input.sk-toggleable__control:checked~label.sk-toggleable__label {background-color: #d4ebff;}#sk-container-id-1 div.sk-label input.sk-toggleable__control:checked~label.sk-toggleable__label {background-color: #d4ebff;}#sk-container-id-1 input.sk-hidden--visually {border: 0;clip: rect(1px 1px 1px 1px);clip: rect(1px, 1px, 1px, 1px);height: 1px;margin: -1px;overflow: hidden;padding: 0;position: absolute;width: 1px;}#sk-container-id-1 div.sk-estimator {font-family: monospace;background-color: #f0f8ff;border: 1px dotted black;border-radius: 0.25em;box-sizing: border-box;margin-bottom: 0.5em;}#sk-container-id-1 div.sk-estimator:hover {background-color: #d4ebff;}#sk-container-id-1 div.sk-parallel-item::after {content: \"\";width: 100%;border-bottom: 1px solid gray;flex-grow: 1;}#sk-container-id-1 div.sk-label:hover label.sk-toggleable__label {background-color: #d4ebff;}#sk-container-id-1 div.sk-serial::before {content: \"\";position: absolute;border-left: 1px solid gray;box-sizing: border-box;top: 0;bottom: 0;left: 50%;z-index: 0;}#sk-container-id-1 div.sk-serial {display: flex;flex-direction: column;align-items: center;background-color: white;padding-right: 0.2em;padding-left: 0.2em;position: relative;}#sk-container-id-1 div.sk-item {position: relative;z-index: 1;}#sk-container-id-1 div.sk-parallel {display: flex;align-items: stretch;justify-content: center;background-color: white;position: relative;}#sk-container-id-1 div.sk-item::before, #sk-container-id-1 div.sk-parallel-item::before {content: \"\";position: absolute;border-left: 1px solid gray;box-sizing: border-box;top: 0;bottom: 0;left: 50%;z-index: -1;}#sk-container-id-1 div.sk-parallel-item {display: flex;flex-direction: column;z-index: 1;position: relative;background-color: white;}#sk-container-id-1 div.sk-parallel-item:first-child::after {align-self: flex-end;width: 50%;}#sk-container-id-1 div.sk-parallel-item:last-child::after {align-self: flex-start;width: 50%;}#sk-container-id-1 div.sk-parallel-item:only-child::after {width: 0;}#sk-container-id-1 div.sk-dashed-wrapped {border: 1px dashed gray;margin: 0 0.4em 0.5em 0.4em;box-sizing: border-box;padding-bottom: 0.4em;background-color: white;}#sk-container-id-1 div.sk-label label {font-family: monospace;font-weight: bold;display: inline-block;line-height: 1.2em;}#sk-container-id-1 div.sk-label-container {text-align: center;}#sk-container-id-1 div.sk-container {/* jupyter's `normalize.less` sets `[hidden] { display: none; }` but bootstrap.min.css set `[hidden] { display: none !important; }` so we also need the `!important` here to be able to override the default hidden behavior on the sphinx rendered scikit-learn.org. See: https://github.com/scikit-learn/scikit-learn/issues/21755 */display: inline-block !important;position: relative;}#sk-container-id-1 div.sk-text-repr-fallback {display: none;}</style><div id=\"sk-container-id-1\" class=\"sk-top-container\"><div class=\"sk-text-repr-fallback\"><pre>RandomizedSearchCV(cv=5, estimator=RandomForestRegressor(), n_jobs=1,\n",
              "                   param_distributions={&#x27;max_depth&#x27;: [5, 10, 15, 20, 25, 30],\n",
              "                                        &#x27;max_features&#x27;: [&#x27;auto&#x27;, &#x27;sqrt&#x27;],\n",
              "                                        &#x27;min_samples_leaf&#x27;: [1, 2, 5, 10],\n",
              "                                        &#x27;min_samples_split&#x27;: [2, 5, 10, 15,\n",
              "                                                              100],\n",
              "                                        &#x27;n_estimators&#x27;: [100, 200, 300, 400,\n",
              "                                                         500, 600, 700, 800,\n",
              "                                                         900, 1000, 1100,\n",
              "                                                         1200]},\n",
              "                   random_state=42, scoring=&#x27;neg_mean_squared_error&#x27;,\n",
              "                   verbose=2)</pre><b>In a Jupyter environment, please rerun this cell to show the HTML representation or trust the notebook. <br />On GitHub, the HTML representation is unable to render, please try loading this page with nbviewer.org.</b></div><div class=\"sk-container\" hidden><div class=\"sk-item sk-dashed-wrapped\"><div class=\"sk-label-container\"><div class=\"sk-label sk-toggleable\"><input class=\"sk-toggleable__control sk-hidden--visually\" id=\"sk-estimator-id-1\" type=\"checkbox\" ><label for=\"sk-estimator-id-1\" class=\"sk-toggleable__label sk-toggleable__label-arrow\">RandomizedSearchCV</label><div class=\"sk-toggleable__content\"><pre>RandomizedSearchCV(cv=5, estimator=RandomForestRegressor(), n_jobs=1,\n",
              "                   param_distributions={&#x27;max_depth&#x27;: [5, 10, 15, 20, 25, 30],\n",
              "                                        &#x27;max_features&#x27;: [&#x27;auto&#x27;, &#x27;sqrt&#x27;],\n",
              "                                        &#x27;min_samples_leaf&#x27;: [1, 2, 5, 10],\n",
              "                                        &#x27;min_samples_split&#x27;: [2, 5, 10, 15,\n",
              "                                                              100],\n",
              "                                        &#x27;n_estimators&#x27;: [100, 200, 300, 400,\n",
              "                                                         500, 600, 700, 800,\n",
              "                                                         900, 1000, 1100,\n",
              "                                                         1200]},\n",
              "                   random_state=42, scoring=&#x27;neg_mean_squared_error&#x27;,\n",
              "                   verbose=2)</pre></div></div></div><div class=\"sk-parallel\"><div class=\"sk-parallel-item\"><div class=\"sk-item\"><div class=\"sk-label-container\"><div class=\"sk-label sk-toggleable\"><input class=\"sk-toggleable__control sk-hidden--visually\" id=\"sk-estimator-id-2\" type=\"checkbox\" ><label for=\"sk-estimator-id-2\" class=\"sk-toggleable__label sk-toggleable__label-arrow\">estimator: RandomForestRegressor</label><div class=\"sk-toggleable__content\"><pre>RandomForestRegressor()</pre></div></div></div><div class=\"sk-serial\"><div class=\"sk-item\"><div class=\"sk-estimator sk-toggleable\"><input class=\"sk-toggleable__control sk-hidden--visually\" id=\"sk-estimator-id-3\" type=\"checkbox\" ><label for=\"sk-estimator-id-3\" class=\"sk-toggleable__label sk-toggleable__label-arrow\">RandomForestRegressor</label><div class=\"sk-toggleable__content\"><pre>RandomForestRegressor()</pre></div></div></div></div></div></div></div></div></div></div>"
            ]
          },
          "metadata": {},
          "execution_count": 22
        }
      ]
    },
    {
      "cell_type": "code",
      "source": [
        "rf_random.best_params_"
      ],
      "metadata": {
        "colab": {
          "base_uri": "https://localhost:8080/"
        },
        "id": "UbAMAZtjhl7A",
        "outputId": "bf3e99cc-e0e0-4eb0-9e12-8ca8df24c990"
      },
      "execution_count": 23,
      "outputs": [
        {
          "output_type": "execute_result",
          "data": {
            "text/plain": [
              "{'n_estimators': 1000,\n",
              " 'min_samples_split': 2,\n",
              " 'min_samples_leaf': 1,\n",
              " 'max_features': 'sqrt',\n",
              " 'max_depth': 25}"
            ]
          },
          "metadata": {},
          "execution_count": 23
        }
      ]
    },
    {
      "cell_type": "code",
      "source": [
        "rf_random.best_score_"
      ],
      "metadata": {
        "colab": {
          "base_uri": "https://localhost:8080/"
        },
        "id": "O3BVPB43hx5Y",
        "outputId": "85a0539e-aa8f-4c8e-a476-451387cc27b8"
      },
      "execution_count": 24,
      "outputs": [
        {
          "output_type": "execute_result",
          "data": {
            "text/plain": [
              "-510284743.84050864"
            ]
          },
          "metadata": {},
          "execution_count": 24
        }
      ]
    },
    {
      "cell_type": "code",
      "source": [
        "rf_random.best_estimator_"
      ],
      "metadata": {
        "colab": {
          "base_uri": "https://localhost:8080/",
          "height": 74
        },
        "id": "QU9ZeQ0sidtx",
        "outputId": "00664f03-0a54-4e78-c16b-47e89c010922"
      },
      "execution_count": 25,
      "outputs": [
        {
          "output_type": "execute_result",
          "data": {
            "text/plain": [
              "RandomForestRegressor(max_depth=25, max_features='sqrt', n_estimators=1000)"
            ],
            "text/html": [
              "<style>#sk-container-id-2 {color: black;background-color: white;}#sk-container-id-2 pre{padding: 0;}#sk-container-id-2 div.sk-toggleable {background-color: white;}#sk-container-id-2 label.sk-toggleable__label {cursor: pointer;display: block;width: 100%;margin-bottom: 0;padding: 0.3em;box-sizing: border-box;text-align: center;}#sk-container-id-2 label.sk-toggleable__label-arrow:before {content: \"▸\";float: left;margin-right: 0.25em;color: #696969;}#sk-container-id-2 label.sk-toggleable__label-arrow:hover:before {color: black;}#sk-container-id-2 div.sk-estimator:hover label.sk-toggleable__label-arrow:before {color: black;}#sk-container-id-2 div.sk-toggleable__content {max-height: 0;max-width: 0;overflow: hidden;text-align: left;background-color: #f0f8ff;}#sk-container-id-2 div.sk-toggleable__content pre {margin: 0.2em;color: black;border-radius: 0.25em;background-color: #f0f8ff;}#sk-container-id-2 input.sk-toggleable__control:checked~div.sk-toggleable__content {max-height: 200px;max-width: 100%;overflow: auto;}#sk-container-id-2 input.sk-toggleable__control:checked~label.sk-toggleable__label-arrow:before {content: \"▾\";}#sk-container-id-2 div.sk-estimator input.sk-toggleable__control:checked~label.sk-toggleable__label {background-color: #d4ebff;}#sk-container-id-2 div.sk-label input.sk-toggleable__control:checked~label.sk-toggleable__label {background-color: #d4ebff;}#sk-container-id-2 input.sk-hidden--visually {border: 0;clip: rect(1px 1px 1px 1px);clip: rect(1px, 1px, 1px, 1px);height: 1px;margin: -1px;overflow: hidden;padding: 0;position: absolute;width: 1px;}#sk-container-id-2 div.sk-estimator {font-family: monospace;background-color: #f0f8ff;border: 1px dotted black;border-radius: 0.25em;box-sizing: border-box;margin-bottom: 0.5em;}#sk-container-id-2 div.sk-estimator:hover {background-color: #d4ebff;}#sk-container-id-2 div.sk-parallel-item::after {content: \"\";width: 100%;border-bottom: 1px solid gray;flex-grow: 1;}#sk-container-id-2 div.sk-label:hover label.sk-toggleable__label {background-color: #d4ebff;}#sk-container-id-2 div.sk-serial::before {content: \"\";position: absolute;border-left: 1px solid gray;box-sizing: border-box;top: 0;bottom: 0;left: 50%;z-index: 0;}#sk-container-id-2 div.sk-serial {display: flex;flex-direction: column;align-items: center;background-color: white;padding-right: 0.2em;padding-left: 0.2em;position: relative;}#sk-container-id-2 div.sk-item {position: relative;z-index: 1;}#sk-container-id-2 div.sk-parallel {display: flex;align-items: stretch;justify-content: center;background-color: white;position: relative;}#sk-container-id-2 div.sk-item::before, #sk-container-id-2 div.sk-parallel-item::before {content: \"\";position: absolute;border-left: 1px solid gray;box-sizing: border-box;top: 0;bottom: 0;left: 50%;z-index: -1;}#sk-container-id-2 div.sk-parallel-item {display: flex;flex-direction: column;z-index: 1;position: relative;background-color: white;}#sk-container-id-2 div.sk-parallel-item:first-child::after {align-self: flex-end;width: 50%;}#sk-container-id-2 div.sk-parallel-item:last-child::after {align-self: flex-start;width: 50%;}#sk-container-id-2 div.sk-parallel-item:only-child::after {width: 0;}#sk-container-id-2 div.sk-dashed-wrapped {border: 1px dashed gray;margin: 0 0.4em 0.5em 0.4em;box-sizing: border-box;padding-bottom: 0.4em;background-color: white;}#sk-container-id-2 div.sk-label label {font-family: monospace;font-weight: bold;display: inline-block;line-height: 1.2em;}#sk-container-id-2 div.sk-label-container {text-align: center;}#sk-container-id-2 div.sk-container {/* jupyter's `normalize.less` sets `[hidden] { display: none; }` but bootstrap.min.css set `[hidden] { display: none !important; }` so we also need the `!important` here to be able to override the default hidden behavior on the sphinx rendered scikit-learn.org. See: https://github.com/scikit-learn/scikit-learn/issues/21755 */display: inline-block !important;position: relative;}#sk-container-id-2 div.sk-text-repr-fallback {display: none;}</style><div id=\"sk-container-id-2\" class=\"sk-top-container\"><div class=\"sk-text-repr-fallback\"><pre>RandomForestRegressor(max_depth=25, max_features=&#x27;sqrt&#x27;, n_estimators=1000)</pre><b>In a Jupyter environment, please rerun this cell to show the HTML representation or trust the notebook. <br />On GitHub, the HTML representation is unable to render, please try loading this page with nbviewer.org.</b></div><div class=\"sk-container\" hidden><div class=\"sk-item\"><div class=\"sk-estimator sk-toggleable\"><input class=\"sk-toggleable__control sk-hidden--visually\" id=\"sk-estimator-id-4\" type=\"checkbox\" checked><label for=\"sk-estimator-id-4\" class=\"sk-toggleable__label sk-toggleable__label-arrow\">RandomForestRegressor</label><div class=\"sk-toggleable__content\"><pre>RandomForestRegressor(max_depth=25, max_features=&#x27;sqrt&#x27;, n_estimators=1000)</pre></div></div></div></div></div>"
            ]
          },
          "metadata": {},
          "execution_count": 25
        }
      ]
    },
    {
      "cell_type": "code",
      "source": [
        "regressor=RandomForestRegressor(max_depth=25, max_features='sqrt', n_estimators=1000)"
      ],
      "metadata": {
        "id": "mn40mQX8h2DY"
      },
      "execution_count": 26,
      "outputs": []
    },
    {
      "cell_type": "code",
      "source": [
        "regressor.fit(X_train,y_train)"
      ],
      "metadata": {
        "colab": {
          "base_uri": "https://localhost:8080/",
          "height": 74
        },
        "id": "TxI0Li2hiQFY",
        "outputId": "b3041214-72c5-479a-9475-357804e1fb42"
      },
      "execution_count": 27,
      "outputs": [
        {
          "output_type": "execute_result",
          "data": {
            "text/plain": [
              "RandomForestRegressor(max_depth=25, max_features='sqrt', n_estimators=1000)"
            ],
            "text/html": [
              "<style>#sk-container-id-3 {color: black;background-color: white;}#sk-container-id-3 pre{padding: 0;}#sk-container-id-3 div.sk-toggleable {background-color: white;}#sk-container-id-3 label.sk-toggleable__label {cursor: pointer;display: block;width: 100%;margin-bottom: 0;padding: 0.3em;box-sizing: border-box;text-align: center;}#sk-container-id-3 label.sk-toggleable__label-arrow:before {content: \"▸\";float: left;margin-right: 0.25em;color: #696969;}#sk-container-id-3 label.sk-toggleable__label-arrow:hover:before {color: black;}#sk-container-id-3 div.sk-estimator:hover label.sk-toggleable__label-arrow:before {color: black;}#sk-container-id-3 div.sk-toggleable__content {max-height: 0;max-width: 0;overflow: hidden;text-align: left;background-color: #f0f8ff;}#sk-container-id-3 div.sk-toggleable__content pre {margin: 0.2em;color: black;border-radius: 0.25em;background-color: #f0f8ff;}#sk-container-id-3 input.sk-toggleable__control:checked~div.sk-toggleable__content {max-height: 200px;max-width: 100%;overflow: auto;}#sk-container-id-3 input.sk-toggleable__control:checked~label.sk-toggleable__label-arrow:before {content: \"▾\";}#sk-container-id-3 div.sk-estimator input.sk-toggleable__control:checked~label.sk-toggleable__label {background-color: #d4ebff;}#sk-container-id-3 div.sk-label input.sk-toggleable__control:checked~label.sk-toggleable__label {background-color: #d4ebff;}#sk-container-id-3 input.sk-hidden--visually {border: 0;clip: rect(1px 1px 1px 1px);clip: rect(1px, 1px, 1px, 1px);height: 1px;margin: -1px;overflow: hidden;padding: 0;position: absolute;width: 1px;}#sk-container-id-3 div.sk-estimator {font-family: monospace;background-color: #f0f8ff;border: 1px dotted black;border-radius: 0.25em;box-sizing: border-box;margin-bottom: 0.5em;}#sk-container-id-3 div.sk-estimator:hover {background-color: #d4ebff;}#sk-container-id-3 div.sk-parallel-item::after {content: \"\";width: 100%;border-bottom: 1px solid gray;flex-grow: 1;}#sk-container-id-3 div.sk-label:hover label.sk-toggleable__label {background-color: #d4ebff;}#sk-container-id-3 div.sk-serial::before {content: \"\";position: absolute;border-left: 1px solid gray;box-sizing: border-box;top: 0;bottom: 0;left: 50%;z-index: 0;}#sk-container-id-3 div.sk-serial {display: flex;flex-direction: column;align-items: center;background-color: white;padding-right: 0.2em;padding-left: 0.2em;position: relative;}#sk-container-id-3 div.sk-item {position: relative;z-index: 1;}#sk-container-id-3 div.sk-parallel {display: flex;align-items: stretch;justify-content: center;background-color: white;position: relative;}#sk-container-id-3 div.sk-item::before, #sk-container-id-3 div.sk-parallel-item::before {content: \"\";position: absolute;border-left: 1px solid gray;box-sizing: border-box;top: 0;bottom: 0;left: 50%;z-index: -1;}#sk-container-id-3 div.sk-parallel-item {display: flex;flex-direction: column;z-index: 1;position: relative;background-color: white;}#sk-container-id-3 div.sk-parallel-item:first-child::after {align-self: flex-end;width: 50%;}#sk-container-id-3 div.sk-parallel-item:last-child::after {align-self: flex-start;width: 50%;}#sk-container-id-3 div.sk-parallel-item:only-child::after {width: 0;}#sk-container-id-3 div.sk-dashed-wrapped {border: 1px dashed gray;margin: 0 0.4em 0.5em 0.4em;box-sizing: border-box;padding-bottom: 0.4em;background-color: white;}#sk-container-id-3 div.sk-label label {font-family: monospace;font-weight: bold;display: inline-block;line-height: 1.2em;}#sk-container-id-3 div.sk-label-container {text-align: center;}#sk-container-id-3 div.sk-container {/* jupyter's `normalize.less` sets `[hidden] { display: none; }` but bootstrap.min.css set `[hidden] { display: none !important; }` so we also need the `!important` here to be able to override the default hidden behavior on the sphinx rendered scikit-learn.org. See: https://github.com/scikit-learn/scikit-learn/issues/21755 */display: inline-block !important;position: relative;}#sk-container-id-3 div.sk-text-repr-fallback {display: none;}</style><div id=\"sk-container-id-3\" class=\"sk-top-container\"><div class=\"sk-text-repr-fallback\"><pre>RandomForestRegressor(max_depth=25, max_features=&#x27;sqrt&#x27;, n_estimators=1000)</pre><b>In a Jupyter environment, please rerun this cell to show the HTML representation or trust the notebook. <br />On GitHub, the HTML representation is unable to render, please try loading this page with nbviewer.org.</b></div><div class=\"sk-container\" hidden><div class=\"sk-item\"><div class=\"sk-estimator sk-toggleable\"><input class=\"sk-toggleable__control sk-hidden--visually\" id=\"sk-estimator-id-5\" type=\"checkbox\" checked><label for=\"sk-estimator-id-5\" class=\"sk-toggleable__label sk-toggleable__label-arrow\">RandomForestRegressor</label><div class=\"sk-toggleable__content\"><pre>RandomForestRegressor(max_depth=25, max_features=&#x27;sqrt&#x27;, n_estimators=1000)</pre></div></div></div></div></div>"
            ]
          },
          "metadata": {},
          "execution_count": 27
        }
      ]
    },
    {
      "cell_type": "code",
      "source": [
        "regressor.score(X_test,y_test)"
      ],
      "metadata": {
        "colab": {
          "base_uri": "https://localhost:8080/"
        },
        "id": "MJj33i-0iSgP",
        "outputId": "424f64cf-83f6-4b07-c55d-06c50cd3cd1d"
      },
      "execution_count": 28,
      "outputs": [
        {
          "output_type": "execute_result",
          "data": {
            "text/plain": [
              "0.8969496698318172"
            ]
          },
          "metadata": {},
          "execution_count": 28
        }
      ]
    },
    {
      "cell_type": "code",
      "source": [
        "y_pred=regressor.predict(X_test)\n",
        "from sklearn.metrics import r2_score as r2\n",
        "y_pred"
      ],
      "metadata": {
        "colab": {
          "base_uri": "https://localhost:8080/"
        },
        "id": "A8yjyG1Pi4nP",
        "outputId": "6dc5bc35-96ee-4e52-f6bb-1647c7de9f3e"
      },
      "execution_count": 29,
      "outputs": [
        {
          "output_type": "execute_result",
          "data": {
            "text/plain": [
              "array([232772.5145    , 143888.219     , 123298.775     , 205966.331     ,\n",
              "        94078.372     , 108411.292     , 236645.2565    , 131849.802     ,\n",
              "       310349.5845    , 158653.9515    , 196867.405     , 152290.432     ,\n",
              "       226218.792     , 128160.45847619, 128414.344     , 141201.99316667,\n",
              "       229627.3565    , 113860.458     , 140408.63597619, 173997.2365    ,\n",
              "       131197.13228571, 145939.8885    , 114677.76216667, 167531.51      ,\n",
              "       193430.455     , 204378.259     , 169571.499     ,  86996.58      ,\n",
              "       315051.473     , 117723.824     , 150576.0845    , 202163.38      ,\n",
              "       140545.585     , 293359.055     , 307386.229     , 185386.8205    ,\n",
              "       268433.0375    , 126466.58661905, 231692.618     , 299445.5445    ,\n",
              "       208546.2055    , 137775.897     , 181325.4385    , 298209.353     ,\n",
              "       312366.9535    , 147361.73      , 127658.06766667, 128478.531     ,\n",
              "       167822.488     , 109836.344     , 318758.0615    , 146394.95416667,\n",
              "       171331.7835    ,  96730.706     , 236818.2755    , 118841.241     ,\n",
              "       124244.224     , 240302.7235    , 141058.887     , 107357.47833333,\n",
              "       145895.635     , 131773.30847619, 147511.8265    , 158141.127     ,\n",
              "       215341.995     , 157563.4515    , 130686.47      , 214648.413     ,\n",
              "       141110.363     , 202482.2875    , 182562.666     , 125313.786     ,\n",
              "        96524.6885    , 220095.792     , 100700.725     , 264130.3525    ,\n",
              "       133239.49947619, 112957.008     , 268569.5385    , 153774.318     ,\n",
              "       133000.668     , 131672.145     , 120498.909     , 148156.5325    ,\n",
              "       200342.5645    , 195257.316     , 120130.8235    , 195373.3085    ,\n",
              "       181142.3215    , 139352.92916667, 195078.863     , 183469.179     ,\n",
              "       182456.1925    , 217607.0645    , 207654.8425    , 150957.116     ,\n",
              "       206368.078     , 170858.5225    , 124960.36633333, 146468.271     ,\n",
              "       247767.076     , 211825.2795    , 132338.0885    , 152445.13      ,\n",
              "       120891.55671429, 260361.2695    , 154464.82733333, 102228.94821429,\n",
              "       175934.24      , 116644.186     , 113282.98633333, 124235.814     ,\n",
              "       191411.3275    , 124060.643     , 170488.185     , 158716.903     ,\n",
              "       320912.5555    , 133399.32033333, 196290.422     , 251490.929     ,\n",
              "       138746.827     , 164825.8       , 135210.55      , 192683.3025    ,\n",
              "       223173.7065    , 230855.8775    , 318702.595     , 197980.946     ,\n",
              "       191978.928     , 170081.499     , 209674.111     , 205858.2825    ,\n",
              "       143466.974     , 185990.6495    , 113715.461     , 234999.213     ,\n",
              "       137930.46      , 184582.07      , 113485.06266667, 185106.152     ,\n",
              "       146036.25797619, 143016.234     , 211038.695     , 141741.53671429,\n",
              "       142540.2875    , 181704.43      , 220115.2925    , 142304.33      ,\n",
              "       272211.155     , 234351.267     , 165314.1285    , 306829.763     ,\n",
              "       260799.374     , 159832.2335    , 164678.7635    , 241555.627     ,\n",
              "       132482.6295    , 181094.6945    , 115486.066     , 176774.2075    ,\n",
              "       125749.38228571, 147043.525     , 195011.8595    , 126739.0385    ,\n",
              "       246728.3675    , 122392.8805    , 163733.942     , 280759.451     ,\n",
              "       197227.032     , 178220.7075    , 171419.8045    , 161653.48      ,\n",
              "       199492.971     , 172069.4975    , 129347.825     , 120447.218     ,\n",
              "       133992.23971429, 226621.805     , 117422.67      , 146464.864     ,\n",
              "       253431.893     , 196571.2315    , 112118.296     , 301839.664     ,\n",
              "       122465.94933333, 178968.616     ,  98354.41      , 197702.536     ,\n",
              "       207311.491     , 145271.3885    , 144920.67933333, 156693.514     ,\n",
              "       208908.9125    , 143771.251     , 130921.971     , 140695.352     ,\n",
              "        96326.101     , 134890.095     , 164624.5965    , 127516.47      ,\n",
              "       134761.216     , 199704.7185    , 120223.28283333, 121200.4       ,\n",
              "       137104.9085    , 178732.3215    , 152338.525     , 299272.8055    ,\n",
              "       266039.2565    ,  78255.781     , 155038.281     , 240452.9605    ,\n",
              "        97349.649     , 100440.333     , 273327.64      , 201212.5405    ,\n",
              "       177307.7705    , 249143.833     , 242952.5785    ,  89386.254     ,\n",
              "       196891.5895    , 158443.64      , 128580.682     , 126382.683     ,\n",
              "       195933.8845    , 271232.3345    , 241153.028     , 214073.5705    ,\n",
              "       138743.613     , 167500.724     ,  95949.217     , 148955.1715    ,\n",
              "       109777.63      , 145934.108     , 227133.424     , 124237.378     ,\n",
              "       135721.775     , 124102.595     ,  97489.6165    , 175793.003     ,\n",
              "       109864.79      , 189838.064     , 206478.816     , 218491.006     ,\n",
              "       171290.12      , 163792.1155    , 194778.231     , 189852.534     ,\n",
              "       144185.2555    , 198844.964     , 166322.527     , 259093.9445    ,\n",
              "        98066.77      , 303844.553     , 220824.644     , 232390.8785    ,\n",
              "       100675.038     , 216969.6575    , 312256.639     , 288385.3625    ,\n",
              "       191081.558     , 130335.181     , 137427.1305    , 107425.272     ,\n",
              "       306045.4415    , 302228.245     , 273338.5795    ,  81452.466     ,\n",
              "       197770.3235    , 245454.034     , 123304.55      , 208111.918     ,\n",
              "       135001.97180952, 178914.949     , 130894.3015    , 227028.4595    ,\n",
              "       202262.563     , 170945.6325    , 218829.806     , 121837.5925    ,\n",
              "       134505.718     , 322997.0245    , 149675.1265    , 138667.151     ,\n",
              "       200185.5335    , 155345.489     , 113308.365     , 268202.4605    ,\n",
              "       322523.809     , 170312.1395    ,  83973.838     , 103286.328     ,\n",
              "       300632.6       , 108686.607     , 130764.13583333, 285201.0715    ,\n",
              "       242462.2615    , 183176.83      , 156334.661     , 167279.01      ,\n",
              "        99814.876     , 129960.32      , 192218.895     , 186912.2265    ,\n",
              "       161042.095     , 152360.791     , 140405.527     , 184982.594     ,\n",
              "       178003.036     , 180158.181     , 111191.437     , 163615.596     ,\n",
              "       156042.603     , 124149.76180952, 125293.31      , 145495.5035    ,\n",
              "       300277.4955    , 117116.172     , 191416.3135    , 159932.041     ,\n",
              "       108744.568     , 257284.328     , 118380.204     , 224000.756     ,\n",
              "       166733.413     , 232353.327     , 130430.46966667, 327937.837     ,\n",
              "       199533.8945    , 141035.556     , 123180.52304762, 228849.223     ,\n",
              "       155390.211     , 187836.305     , 170073.4325    , 155591.525     ,\n",
              "       141104.929     , 195455.7945    , 140841.055     , 131225.04047619,\n",
              "       311436.887     , 162811.3615    , 154185.522     , 217590.764     ,\n",
              "       170891.3615    , 142496.621     , 120576.617     , 111330.112     ,\n",
              "       106771.822     , 139078.513     , 209534.6085    , 303372.199     ,\n",
              "       121466.522     , 109545.699     , 180466.554     , 327217.8005    ,\n",
              "       294946.993     , 154983.38      , 264466.265     , 229264.7055    ,\n",
              "       261975.096     , 188235.47      , 227686.595     , 258714.613     ,\n",
              "        97240.645     , 139995.519     , 179259.501     , 128267.014     ,\n",
              "       195815.648     , 164562.098     , 320233.5645    , 108955.067     ,\n",
              "       134380.429     , 135558.8725    , 141966.02      ,  83055.87      ,\n",
              "       202234.1825    , 283908.498     , 122984.5615    , 238809.8985    ,\n",
              "       161015.847     , 109215.329     , 128736.02      , 124915.636     ,\n",
              "       128327.82735714, 105750.488     , 136512.63      , 192773.225     ,\n",
              "       237710.231     , 316445.9825    , 117217.584     , 120773.799     ,\n",
              "       206517.0505    ,  90466.574     , 137647.66047619, 171596.505     ,\n",
              "       173941.6375    , 178969.9785    , 150854.492     , 181745.158     ,\n",
              "       319048.488     , 223733.073     , 159462.7505    , 106758.789     ,\n",
              "       147916.982     , 281189.6295    , 114926.063     , 272155.2375    ,\n",
              "       254450.4785    , 246534.221     , 137098.768     , 126323.791     ,\n",
              "       200085.3635    , 143690.13      , 132385.88847619, 127971.544     ,\n",
              "       201986.34      , 107543.4075    , 264635.453     , 130982.566     ,\n",
              "       259609.398     , 285194.8555    , 122895.56833333, 148173.662     ,\n",
              "       143284.361     , 122757.71216667, 242587.5595    , 128679.176     ,\n",
              "       202404.1355    , 132170.69933333, 150539.998     , 210274.4475    ,\n",
              "       151802.959     , 196341.1155    , 162248.8225    , 309494.048     ,\n",
              "       212142.804     , 330245.0745    ])"
            ]
          },
          "metadata": {},
          "execution_count": 29
        }
      ]
    },
    {
      "cell_type": "code",
      "source": [
        "errors = abs((y_pred - y_test)/y_test)\n",
        "print('Mean Relative Error:', round(np.mean(errors), 2))"
      ],
      "metadata": {
        "colab": {
          "base_uri": "https://localhost:8080/"
        },
        "id": "fgLT8pQ3jFVA",
        "outputId": "c900a353-aae2-4fba-93ec-b261409b483f"
      },
      "execution_count": 30,
      "outputs": [
        {
          "output_type": "stream",
          "name": "stdout",
          "text": [
            "Mean Relative Error: 0.09\n"
          ]
        }
      ]
    },
    {
      "cell_type": "code",
      "source": [
        "from sklearn import metrics\n",
        "print('Mean Squared Error (MSE):', metrics.mean_squared_error(y_test, y_pred))"
      ],
      "metadata": {
        "colab": {
          "base_uri": "https://localhost:8080/"
        },
        "id": "c_2h4aI2jT1q",
        "outputId": "a7ee1461-cbd8-4f81-daa6-7af0670507de"
      },
      "execution_count": 31,
      "outputs": [
        {
          "output_type": "stream",
          "name": "stdout",
          "text": [
            "Mean Squared Error (MSE): 467653118.72220105\n"
          ]
        }
      ]
    },
    {
      "cell_type": "code",
      "source": [
        "test_df=pd.read_csv('/content/test.csv')"
      ],
      "metadata": {
        "id": "CqZmB1QMjkbY"
      },
      "execution_count": 32,
      "outputs": []
    },
    {
      "cell_type": "code",
      "source": [
        "test_df.shape"
      ],
      "metadata": {
        "colab": {
          "base_uri": "https://localhost:8080/"
        },
        "id": "q67pXpRBjss6",
        "outputId": "be2a1057-4a2c-459e-8b92-faab8fd03e85"
      },
      "execution_count": 33,
      "outputs": [
        {
          "output_type": "execute_result",
          "data": {
            "text/plain": [
              "(1459, 80)"
            ]
          },
          "metadata": {},
          "execution_count": 33
        }
      ]
    },
    {
      "cell_type": "code",
      "source": [
        "test_df=test_df.drop(columns=['Id'],axis=1)\n",
        "test_df.shape\n",
        "#pd.set_option('max_rows',2000)\n",
        "#pd.set_option('max_columns',2000)\n",
        "test_df.head()"
      ],
      "metadata": {
        "colab": {
          "base_uri": "https://localhost:8080/",
          "height": 395
        },
        "id": "kV-cBUPnkHeY",
        "outputId": "0d9a386b-f675-4130-d80f-953f22747388"
      },
      "execution_count": 35,
      "outputs": [
        {
          "output_type": "error",
          "ename": "KeyError",
          "evalue": "ignored",
          "traceback": [
            "\u001b[0;31m---------------------------------------------------------------------------\u001b[0m",
            "\u001b[0;31mKeyError\u001b[0m                                  Traceback (most recent call last)",
            "\u001b[0;32m<ipython-input-35-40477ddeef3d>\u001b[0m in \u001b[0;36m<cell line: 1>\u001b[0;34m()\u001b[0m\n\u001b[0;32m----> 1\u001b[0;31m \u001b[0mtest_df\u001b[0m\u001b[0;34m=\u001b[0m\u001b[0mtest_df\u001b[0m\u001b[0;34m.\u001b[0m\u001b[0mdrop\u001b[0m\u001b[0;34m(\u001b[0m\u001b[0mcolumns\u001b[0m\u001b[0;34m=\u001b[0m\u001b[0;34m[\u001b[0m\u001b[0;34m'Id'\u001b[0m\u001b[0;34m]\u001b[0m\u001b[0;34m,\u001b[0m\u001b[0maxis\u001b[0m\u001b[0;34m=\u001b[0m\u001b[0;36m1\u001b[0m\u001b[0;34m)\u001b[0m\u001b[0;34m\u001b[0m\u001b[0;34m\u001b[0m\u001b[0m\n\u001b[0m\u001b[1;32m      2\u001b[0m \u001b[0mtest_df\u001b[0m\u001b[0;34m.\u001b[0m\u001b[0mshape\u001b[0m\u001b[0;34m\u001b[0m\u001b[0;34m\u001b[0m\u001b[0m\n\u001b[1;32m      3\u001b[0m \u001b[0;31m#pd.set_option('max_rows',2000)\u001b[0m\u001b[0;34m\u001b[0m\u001b[0;34m\u001b[0m\u001b[0m\n\u001b[1;32m      4\u001b[0m \u001b[0;31m#pd.set_option('max_columns',2000)\u001b[0m\u001b[0;34m\u001b[0m\u001b[0;34m\u001b[0m\u001b[0m\n\u001b[1;32m      5\u001b[0m \u001b[0mtest_df\u001b[0m\u001b[0;34m.\u001b[0m\u001b[0mhead\u001b[0m\u001b[0;34m(\u001b[0m\u001b[0;34m)\u001b[0m\u001b[0;34m\u001b[0m\u001b[0;34m\u001b[0m\u001b[0m\n",
            "\u001b[0;32m/usr/local/lib/python3.10/dist-packages/pandas/util/_decorators.py\u001b[0m in \u001b[0;36mwrapper\u001b[0;34m(*args, **kwargs)\u001b[0m\n\u001b[1;32m    329\u001b[0m                     \u001b[0mstacklevel\u001b[0m\u001b[0;34m=\u001b[0m\u001b[0mfind_stack_level\u001b[0m\u001b[0;34m(\u001b[0m\u001b[0;34m)\u001b[0m\u001b[0;34m,\u001b[0m\u001b[0;34m\u001b[0m\u001b[0;34m\u001b[0m\u001b[0m\n\u001b[1;32m    330\u001b[0m                 )\n\u001b[0;32m--> 331\u001b[0;31m             \u001b[0;32mreturn\u001b[0m \u001b[0mfunc\u001b[0m\u001b[0;34m(\u001b[0m\u001b[0;34m*\u001b[0m\u001b[0margs\u001b[0m\u001b[0;34m,\u001b[0m \u001b[0;34m**\u001b[0m\u001b[0mkwargs\u001b[0m\u001b[0;34m)\u001b[0m\u001b[0;34m\u001b[0m\u001b[0;34m\u001b[0m\u001b[0m\n\u001b[0m\u001b[1;32m    332\u001b[0m \u001b[0;34m\u001b[0m\u001b[0m\n\u001b[1;32m    333\u001b[0m         \u001b[0;31m# error: \"Callable[[VarArg(Any), KwArg(Any)], Any]\" has no\u001b[0m\u001b[0;34m\u001b[0m\u001b[0;34m\u001b[0m\u001b[0m\n",
            "\u001b[0;32m/usr/local/lib/python3.10/dist-packages/pandas/core/frame.py\u001b[0m in \u001b[0;36mdrop\u001b[0;34m(self, labels, axis, index, columns, level, inplace, errors)\u001b[0m\n\u001b[1;32m   5397\u001b[0m                 \u001b[0mweight\u001b[0m  \u001b[0;36m1.0\u001b[0m     \u001b[0;36m0.8\u001b[0m\u001b[0;34m\u001b[0m\u001b[0;34m\u001b[0m\u001b[0m\n\u001b[1;32m   5398\u001b[0m         \"\"\"\n\u001b[0;32m-> 5399\u001b[0;31m         return super().drop(\n\u001b[0m\u001b[1;32m   5400\u001b[0m             \u001b[0mlabels\u001b[0m\u001b[0;34m=\u001b[0m\u001b[0mlabels\u001b[0m\u001b[0;34m,\u001b[0m\u001b[0;34m\u001b[0m\u001b[0;34m\u001b[0m\u001b[0m\n\u001b[1;32m   5401\u001b[0m             \u001b[0maxis\u001b[0m\u001b[0;34m=\u001b[0m\u001b[0maxis\u001b[0m\u001b[0;34m,\u001b[0m\u001b[0;34m\u001b[0m\u001b[0;34m\u001b[0m\u001b[0m\n",
            "\u001b[0;32m/usr/local/lib/python3.10/dist-packages/pandas/util/_decorators.py\u001b[0m in \u001b[0;36mwrapper\u001b[0;34m(*args, **kwargs)\u001b[0m\n\u001b[1;32m    329\u001b[0m                     \u001b[0mstacklevel\u001b[0m\u001b[0;34m=\u001b[0m\u001b[0mfind_stack_level\u001b[0m\u001b[0;34m(\u001b[0m\u001b[0;34m)\u001b[0m\u001b[0;34m,\u001b[0m\u001b[0;34m\u001b[0m\u001b[0;34m\u001b[0m\u001b[0m\n\u001b[1;32m    330\u001b[0m                 )\n\u001b[0;32m--> 331\u001b[0;31m             \u001b[0;32mreturn\u001b[0m \u001b[0mfunc\u001b[0m\u001b[0;34m(\u001b[0m\u001b[0;34m*\u001b[0m\u001b[0margs\u001b[0m\u001b[0;34m,\u001b[0m \u001b[0;34m**\u001b[0m\u001b[0mkwargs\u001b[0m\u001b[0;34m)\u001b[0m\u001b[0;34m\u001b[0m\u001b[0;34m\u001b[0m\u001b[0m\n\u001b[0m\u001b[1;32m    332\u001b[0m \u001b[0;34m\u001b[0m\u001b[0m\n\u001b[1;32m    333\u001b[0m         \u001b[0;31m# error: \"Callable[[VarArg(Any), KwArg(Any)], Any]\" has no\u001b[0m\u001b[0;34m\u001b[0m\u001b[0;34m\u001b[0m\u001b[0m\n",
            "\u001b[0;32m/usr/local/lib/python3.10/dist-packages/pandas/core/generic.py\u001b[0m in \u001b[0;36mdrop\u001b[0;34m(self, labels, axis, index, columns, level, inplace, errors)\u001b[0m\n\u001b[1;32m   4503\u001b[0m         \u001b[0;32mfor\u001b[0m \u001b[0maxis\u001b[0m\u001b[0;34m,\u001b[0m \u001b[0mlabels\u001b[0m \u001b[0;32min\u001b[0m \u001b[0maxes\u001b[0m\u001b[0;34m.\u001b[0m\u001b[0mitems\u001b[0m\u001b[0;34m(\u001b[0m\u001b[0;34m)\u001b[0m\u001b[0;34m:\u001b[0m\u001b[0;34m\u001b[0m\u001b[0;34m\u001b[0m\u001b[0m\n\u001b[1;32m   4504\u001b[0m             \u001b[0;32mif\u001b[0m \u001b[0mlabels\u001b[0m \u001b[0;32mis\u001b[0m \u001b[0;32mnot\u001b[0m \u001b[0;32mNone\u001b[0m\u001b[0;34m:\u001b[0m\u001b[0;34m\u001b[0m\u001b[0;34m\u001b[0m\u001b[0m\n\u001b[0;32m-> 4505\u001b[0;31m                 \u001b[0mobj\u001b[0m \u001b[0;34m=\u001b[0m \u001b[0mobj\u001b[0m\u001b[0;34m.\u001b[0m\u001b[0m_drop_axis\u001b[0m\u001b[0;34m(\u001b[0m\u001b[0mlabels\u001b[0m\u001b[0;34m,\u001b[0m \u001b[0maxis\u001b[0m\u001b[0;34m,\u001b[0m \u001b[0mlevel\u001b[0m\u001b[0;34m=\u001b[0m\u001b[0mlevel\u001b[0m\u001b[0;34m,\u001b[0m \u001b[0merrors\u001b[0m\u001b[0;34m=\u001b[0m\u001b[0merrors\u001b[0m\u001b[0;34m)\u001b[0m\u001b[0;34m\u001b[0m\u001b[0;34m\u001b[0m\u001b[0m\n\u001b[0m\u001b[1;32m   4506\u001b[0m \u001b[0;34m\u001b[0m\u001b[0m\n\u001b[1;32m   4507\u001b[0m         \u001b[0;32mif\u001b[0m \u001b[0minplace\u001b[0m\u001b[0;34m:\u001b[0m\u001b[0;34m\u001b[0m\u001b[0;34m\u001b[0m\u001b[0m\n",
            "\u001b[0;32m/usr/local/lib/python3.10/dist-packages/pandas/core/generic.py\u001b[0m in \u001b[0;36m_drop_axis\u001b[0;34m(self, labels, axis, level, errors, only_slice)\u001b[0m\n\u001b[1;32m   4544\u001b[0m                 \u001b[0mnew_axis\u001b[0m \u001b[0;34m=\u001b[0m \u001b[0maxis\u001b[0m\u001b[0;34m.\u001b[0m\u001b[0mdrop\u001b[0m\u001b[0;34m(\u001b[0m\u001b[0mlabels\u001b[0m\u001b[0;34m,\u001b[0m \u001b[0mlevel\u001b[0m\u001b[0;34m=\u001b[0m\u001b[0mlevel\u001b[0m\u001b[0;34m,\u001b[0m \u001b[0merrors\u001b[0m\u001b[0;34m=\u001b[0m\u001b[0merrors\u001b[0m\u001b[0;34m)\u001b[0m\u001b[0;34m\u001b[0m\u001b[0;34m\u001b[0m\u001b[0m\n\u001b[1;32m   4545\u001b[0m             \u001b[0;32melse\u001b[0m\u001b[0;34m:\u001b[0m\u001b[0;34m\u001b[0m\u001b[0;34m\u001b[0m\u001b[0m\n\u001b[0;32m-> 4546\u001b[0;31m                 \u001b[0mnew_axis\u001b[0m \u001b[0;34m=\u001b[0m \u001b[0maxis\u001b[0m\u001b[0;34m.\u001b[0m\u001b[0mdrop\u001b[0m\u001b[0;34m(\u001b[0m\u001b[0mlabels\u001b[0m\u001b[0;34m,\u001b[0m \u001b[0merrors\u001b[0m\u001b[0;34m=\u001b[0m\u001b[0merrors\u001b[0m\u001b[0;34m)\u001b[0m\u001b[0;34m\u001b[0m\u001b[0;34m\u001b[0m\u001b[0m\n\u001b[0m\u001b[1;32m   4547\u001b[0m             \u001b[0mindexer\u001b[0m \u001b[0;34m=\u001b[0m \u001b[0maxis\u001b[0m\u001b[0;34m.\u001b[0m\u001b[0mget_indexer\u001b[0m\u001b[0;34m(\u001b[0m\u001b[0mnew_axis\u001b[0m\u001b[0;34m)\u001b[0m\u001b[0;34m\u001b[0m\u001b[0;34m\u001b[0m\u001b[0m\n\u001b[1;32m   4548\u001b[0m \u001b[0;34m\u001b[0m\u001b[0m\n",
            "\u001b[0;32m/usr/local/lib/python3.10/dist-packages/pandas/core/indexes/base.py\u001b[0m in \u001b[0;36mdrop\u001b[0;34m(self, labels, errors)\u001b[0m\n\u001b[1;32m   6932\u001b[0m         \u001b[0;32mif\u001b[0m \u001b[0mmask\u001b[0m\u001b[0;34m.\u001b[0m\u001b[0many\u001b[0m\u001b[0;34m(\u001b[0m\u001b[0;34m)\u001b[0m\u001b[0;34m:\u001b[0m\u001b[0;34m\u001b[0m\u001b[0;34m\u001b[0m\u001b[0m\n\u001b[1;32m   6933\u001b[0m             \u001b[0;32mif\u001b[0m \u001b[0merrors\u001b[0m \u001b[0;34m!=\u001b[0m \u001b[0;34m\"ignore\"\u001b[0m\u001b[0;34m:\u001b[0m\u001b[0;34m\u001b[0m\u001b[0;34m\u001b[0m\u001b[0m\n\u001b[0;32m-> 6934\u001b[0;31m                 \u001b[0;32mraise\u001b[0m \u001b[0mKeyError\u001b[0m\u001b[0;34m(\u001b[0m\u001b[0;34mf\"{list(labels[mask])} not found in axis\"\u001b[0m\u001b[0;34m)\u001b[0m\u001b[0;34m\u001b[0m\u001b[0;34m\u001b[0m\u001b[0m\n\u001b[0m\u001b[1;32m   6935\u001b[0m             \u001b[0mindexer\u001b[0m \u001b[0;34m=\u001b[0m \u001b[0mindexer\u001b[0m\u001b[0;34m[\u001b[0m\u001b[0;34m~\u001b[0m\u001b[0mmask\u001b[0m\u001b[0;34m]\u001b[0m\u001b[0;34m\u001b[0m\u001b[0;34m\u001b[0m\u001b[0m\n\u001b[1;32m   6936\u001b[0m         \u001b[0;32mreturn\u001b[0m \u001b[0mself\u001b[0m\u001b[0;34m.\u001b[0m\u001b[0mdelete\u001b[0m\u001b[0;34m(\u001b[0m\u001b[0mindexer\u001b[0m\u001b[0;34m)\u001b[0m\u001b[0;34m\u001b[0m\u001b[0;34m\u001b[0m\u001b[0m\n",
            "\u001b[0;31mKeyError\u001b[0m: \"['Id'] not found in axis\""
          ]
        }
      ]
    },
    {
      "cell_type": "code",
      "source": [
        "test_df.isnull().sum()"
      ],
      "metadata": {
        "colab": {
          "base_uri": "https://localhost:8080/"
        },
        "id": "e7-vA7-cn273",
        "outputId": "6fdc9cb7-4097-47b9-ce75-f0bc49d15488"
      },
      "execution_count": 36,
      "outputs": [
        {
          "output_type": "execute_result",
          "data": {
            "text/plain": [
              "MSSubClass         0\n",
              "MSZoning           4\n",
              "LotFrontage      227\n",
              "LotArea            0\n",
              "Street             0\n",
              "                ... \n",
              "MiscVal            0\n",
              "MoSold             0\n",
              "YrSold             0\n",
              "SaleType           1\n",
              "SaleCondition      0\n",
              "Length: 79, dtype: int64"
            ]
          },
          "metadata": {},
          "execution_count": 36
        }
      ]
    },
    {
      "cell_type": "code",
      "source": [
        "test_df.shape"
      ],
      "metadata": {
        "colab": {
          "base_uri": "https://localhost:8080/"
        },
        "id": "8EFQ77iluoQ3",
        "outputId": "e57a6387-bdd6-4f77-dee1-822e6ea4abf7"
      },
      "execution_count": 37,
      "outputs": [
        {
          "output_type": "execute_result",
          "data": {
            "text/plain": [
              "(1459, 79)"
            ]
          },
          "metadata": {},
          "execution_count": 37
        }
      ]
    },
    {
      "cell_type": "code",
      "source": [
        "test_df.dtypes\n",
        "test_df['MSSubClass'] = test_df['MSSubClass'].astype(str)"
      ],
      "metadata": {
        "id": "I3VRwT_OvpE-"
      },
      "execution_count": 38,
      "outputs": []
    },
    {
      "cell_type": "code",
      "source": [
        "cat_new=test_df.select_dtypes(include='object')\n",
        "type(cat_new)\n",
        "listnew=[]\n",
        "for col in cat_new.columns:\n",
        "   if cat_new[col].isnull().sum()>0:\n",
        "    listnew.append(col)"
      ],
      "metadata": {
        "id": "rSWO3wEYym_H"
      },
      "execution_count": 39,
      "outputs": []
    },
    {
      "cell_type": "code",
      "source": [
        "print(listnew)\n",
        "print(len(listnew))"
      ],
      "metadata": {
        "colab": {
          "base_uri": "https://localhost:8080/"
        },
        "id": "TCWvNLHpy0j8",
        "outputId": "67bcdd62-ff3a-459f-8cd3-226ab8a7c21a"
      },
      "execution_count": 40,
      "outputs": [
        {
          "output_type": "stream",
          "name": "stdout",
          "text": [
            "['MSZoning', 'Alley', 'Utilities', 'Exterior1st', 'Exterior2nd', 'MasVnrType', 'BsmtQual', 'BsmtCond', 'BsmtExposure', 'BsmtFinType1', 'BsmtFinType2', 'KitchenQual', 'Functional', 'FireplaceQu', 'GarageType', 'GarageFinish', 'GarageQual', 'GarageCond', 'PoolQC', 'Fence', 'MiscFeature', 'SaleType']\n",
            "22\n"
          ]
        }
      ]
    },
    {
      "cell_type": "code",
      "source": [
        "for column in ['MSZoning','Utilities','Exterior1st','Exterior2nd','KitchenQual','Functional','SaleType','MasVnrType']:\n",
        "  test_df[column]=test_df[column].fillna(test_df[column].mode()[0])\n"
      ],
      "metadata": {
        "id": "5LgEq4ld2g7v"
      },
      "execution_count": 41,
      "outputs": []
    },
    {
      "cell_type": "code",
      "source": [
        "for column in ['Alley', 'BsmtQual', 'BsmtCond', 'BsmtExposure', 'BsmtFinType1', 'BsmtFinType2', 'FireplaceQu', 'GarageType', 'GarageFinish', 'GarageQual', 'GarageCond', 'PoolQC', 'Fence', 'MiscFeature']:\n",
        "  test_df[column]=test_df[column].fillna(\"None\")"
      ],
      "metadata": {
        "id": "VFHmQWWcK0JG"
      },
      "execution_count": 42,
      "outputs": []
    },
    {
      "cell_type": "code",
      "source": [
        "test_df.isnull().sum()\n",
        "listnew1=[]\n",
        "catnumber1=test_df.select_dtypes(exclude='object')\n",
        "for col in catnumber1.columns:\n",
        "  if catnumber1[col].isnull().sum()>0:\n",
        "    listnew1.append(col)\n",
        "\n",
        "print(listnew1)\n",
        "print(len(listnew1))\n"
      ],
      "metadata": {
        "colab": {
          "base_uri": "https://localhost:8080/"
        },
        "id": "CpD-LdGRMwM0",
        "outputId": "6bf9978f-2aa7-44ac-f8e4-cd8c3f00ff45"
      },
      "execution_count": 43,
      "outputs": [
        {
          "output_type": "stream",
          "name": "stdout",
          "text": [
            "['LotFrontage', 'MasVnrArea', 'BsmtFinSF1', 'BsmtFinSF2', 'BsmtUnfSF', 'TotalBsmtSF', 'BsmtFullBath', 'BsmtHalfBath', 'GarageYrBlt', 'GarageCars', 'GarageArea']\n",
            "11\n"
          ]
        }
      ]
    },
    {
      "cell_type": "code",
      "source": [
        "def knnimpute(df,na_target):\n",
        "  df=df.copy()\n",
        "  numeric_df=df.select_dtypes(np.number)\n",
        "\n",
        "  non_na_columns=numeric_df.loc[: ,numeric_df.isna().sum()==0].columns   #just the columns(numeric) with non missing values\n",
        "  y_train=numeric_df.loc[numeric_df[na_target].isna()==False,na_target]   #basically the values in column(na_target)which are non null\n",
        "  x_train=numeric_df.loc[numeric_df[na_target].isna()==False,non_na_columns]  #basicallly all the values of columns where there are no missing values corresponding to na_target\n",
        "  x_test=numeric_df.loc[numeric_df[na_target].isna()==True,non_na_columns] #basically all the values where corresponding to na_target null values we have other column non null values\n",
        "  knn=KNeighborsRegressor()\n",
        "  knn.fit(x_train,y_train)\n",
        "  y_pred=knn.predict(x_test)\n",
        "  df.loc[df[na_target].isna()==True,na_target]=y_pred\n",
        "  return df\n",
        "\n",
        "\n",
        "#knnimpute(df,'LotFrontage') #basically this functon is returning me numeric columns in this dataframe\n",
        "for column in ['LotFrontage', 'MasVnrArea', 'BsmtFinSF1', 'BsmtFinSF2', 'BsmtUnfSF', 'TotalBsmtSF', 'BsmtFullBath', 'BsmtHalfBath', 'GarageYrBlt', 'GarageCars', 'GarageArea']:\n",
        "  test_df=knnimpute(test_df,column)\n",
        "\n",
        "\n",
        "#check for null values now-\n",
        "test_df.isnull().sum()\n"
      ],
      "metadata": {
        "colab": {
          "base_uri": "https://localhost:8080/"
        },
        "id": "PhTEaDVIRqdk",
        "outputId": "93a35d02-e01b-4d2e-ec2c-a096fb451552"
      },
      "execution_count": 44,
      "outputs": [
        {
          "output_type": "execute_result",
          "data": {
            "text/plain": [
              "MSSubClass       0\n",
              "MSZoning         0\n",
              "LotFrontage      0\n",
              "LotArea          0\n",
              "Street           0\n",
              "                ..\n",
              "MiscVal          0\n",
              "MoSold           0\n",
              "YrSold           0\n",
              "SaleType         0\n",
              "SaleCondition    0\n",
              "Length: 79, dtype: int64"
            ]
          },
          "metadata": {},
          "execution_count": 44
        }
      ]
    },
    {
      "cell_type": "code",
      "source": [
        "sns.boxplot(x=test_df['MasVnrArea'])"
      ],
      "metadata": {
        "colab": {
          "base_uri": "https://localhost:8080/",
          "height": 467
        },
        "id": "72HQ1IdEXXEM",
        "outputId": "8bea967e-9634-4b10-d258-a7438134d42b"
      },
      "execution_count": 45,
      "outputs": [
        {
          "output_type": "execute_result",
          "data": {
            "text/plain": [
              "<Axes: xlabel='MasVnrArea'>"
            ]
          },
          "metadata": {},
          "execution_count": 45
        },
        {
          "output_type": "display_data",
          "data": {
            "text/plain": [
              "<Figure size 640x480 with 1 Axes>"
            ],
            "image/png": "[encoded data removed]"
          },
          "metadata": {}
        }
      ]
    },
    {
      "cell_type": "code",
      "source": [
        "for column in ['LotFrontage', 'MasVnrArea', 'BsmtFinSF1', 'BsmtFinSF2', 'BsmtUnfSF', 'TotalBsmtSF', 'BsmtFullBath', 'BsmtHalfBath', 'GarageYrBlt', 'GarageCars', 'GarageArea']:\n",
        "  Q1=test_df[column].quantile(0.25)\n",
        "  Q3=test_df[column].quantile(0.75)\n",
        "  IQR=Q3-Q1\n",
        "\n",
        "  lower_lim=Q1-IQR*1.5\n",
        "  higher_lim=Q3+IQR*1.5\n",
        "\n",
        "  test_df[column]=np.where(test_df[column]>higher_lim,higher_lim,np.where(test_df[column]<lower_lim,lower_lim,test_df[column]))"
      ],
      "metadata": {
        "id": "3stpAz4SUMUX"
      },
      "execution_count": 46,
      "outputs": []
    },
    {
      "cell_type": "code",
      "source": [
        "sns.boxplot(x=test_df['MasVnrArea'])"
      ],
      "metadata": {
        "colab": {
          "base_uri": "https://localhost:8080/",
          "height": 467
        },
        "id": "5YPUNES4YGMV",
        "outputId": "4a682103-9eb4-4982-c26c-33b0620a460f"
      },
      "execution_count": 47,
      "outputs": [
        {
          "output_type": "execute_result",
          "data": {
            "text/plain": [
              "<Axes: xlabel='MasVnrArea'>"
            ]
          },
          "metadata": {},
          "execution_count": 47
        },
        {
          "output_type": "display_data",
          "data": {
            "text/plain": [
              "<Figure size 640x480 with 1 Axes>"
            ],
            "image/png": "[encoded data removed]"
          },
          "metadata": {}
        }
      ]
    },
    {
      "cell_type": "code",
      "source": [
        "new_df1=test_df.select_dtypes(include='object')\n",
        "list2=[]\n",
        "for c in new_df1:\n",
        "  list2.append(c)\n",
        "\n",
        "#print(list)\n",
        "for c in (list2):\n",
        "  test_df[c+'_freq']=test_df[c].map(test_df.groupby(c).size()/test_df.shape[0])\n",
        "\n",
        "test_df.shape"
      ],
      "metadata": {
        "colab": {
          "base_uri": "https://localhost:8080/"
        },
        "id": "ZDPn-6emYJ32",
        "outputId": "7dea0fb0-c8de-4eec-e42d-47677c471bf0"
      },
      "execution_count": 48,
      "outputs": [
        {
          "output_type": "execute_result",
          "data": {
            "text/plain": [
              "(1459, 123)"
            ]
          },
          "metadata": {},
          "execution_count": 48
        }
      ]
    },
    {
      "cell_type": "code",
      "source": [
        "test_df=test_df.drop(columns=[col for col in list2],axis=1)\n"
      ],
      "metadata": {
        "id": "zKesIwToZZGf"
      },
      "execution_count": 49,
      "outputs": []
    },
    {
      "cell_type": "code",
      "source": [
        "test_df.shape"
      ],
      "metadata": {
        "colab": {
          "base_uri": "https://localhost:8080/"
        },
        "id": "tnTy8meSaso9",
        "outputId": "4adbb32b-3c06-4775-cd09-d0adb05be635"
      },
      "execution_count": 50,
      "outputs": [
        {
          "output_type": "execute_result",
          "data": {
            "text/plain": [
              "(1459, 79)"
            ]
          },
          "metadata": {},
          "execution_count": 50
        }
      ]
    },
    {
      "cell_type": "code",
      "source": [
        "y_pred_new=regressor.predict(test_df)"
      ],
      "metadata": {
        "id": "cysX1zzOaz49"
      },
      "execution_count": 51,
      "outputs": []
    },
    {
      "cell_type": "code",
      "source": [
        "y_pred_new"
      ],
      "metadata": {
        "colab": {
          "base_uri": "https://localhost:8080/"
        },
        "id": "Omr4OJgncgGn",
        "outputId": "71d6c99c-57e6-4a5a-934c-4126ade167b3"
      },
      "execution_count": 52,
      "outputs": [
        {
          "output_type": "execute_result",
          "data": {
            "text/plain": [
              "array([126905.26933333, 153258.58316667, 181855.13033333, ...,\n",
              "       167522.667     , 112904.115     , 232009.46      ])"
            ]
          },
          "metadata": {},
          "execution_count": 52
        }
      ]
    },
    {
      "cell_type": "code",
      "source": [
        "print(len(y_pred_new))"
      ],
      "metadata": {
        "colab": {
          "base_uri": "https://localhost:8080/"
        },
        "id": "IlK03vpqcvxv",
        "outputId": "a4d8badd-e629-4552-ac98-eda05fc94332"
      },
      "execution_count": 53,
      "outputs": [
        {
          "output_type": "stream",
          "name": "stdout",
          "text": [
            "1459\n"
          ]
        }
      ]
    },
    {
      "cell_type": "code",
      "source": [
        "pred=pd.DataFrame(y_pred_new)\n",
        "sub_df=pd.read_csv('/content/sample_submission.csv')\n",
        "datasets=pd.concat([sub_df['Id'],pred],axis=1)\n",
        "datasets.columns=['Id','SalePrice']\n",
        "datasets.to_csv('sample_submission.csv',index=False)"
      ],
      "metadata": {
        "id": "rfrs58ETc1Ma"
      },
      "execution_count": 55,
      "outputs": []
    }
  ]
}